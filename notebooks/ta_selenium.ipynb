{
 "cells": [
  {
   "cell_type": "code",
   "execution_count": 2,
   "metadata": {
    "collapsed": true
   },
   "outputs": [],
   "source": [
    "import sys\n",
    "\n",
    "sys.path.insert(0, '../lib') if '../lib'!=sys.path[0] else None\n",
    "from tradealert import get_ta\n",
    "ta = get_ta()"
   ]
  },
  {
   "cell_type": "code",
   "execution_count": 3,
   "outputs": [
    {
     "name": "stdout",
     "output_type": "stream",
     "text": [
      "../data/20230322.trades.parquet\n"
     ]
    },
    {
     "data": {
      "text/plain": "OI 2023-03-22:   0%|          | 0/77 [00:00<?, ?it/s]",
      "application/vnd.jupyter.widget-view+json": {
       "version_major": 2,
       "version_minor": 0,
       "model_id": "0494af031e6b4e8fb4659ee4c031aba2"
      }
     },
     "metadata": {},
     "output_type": "display_data"
    },
    {
     "name": "stdout",
     "output_type": "stream",
     "text": [
      "../data/20230322.oi.parquet\n"
     ]
    },
    {
     "data": {
      "text/plain": "TOP 2023-03-22:   0%|          | 0/77 [00:00<?, ?it/s]",
      "application/vnd.jupyter.widget-view+json": {
       "version_major": 2,
       "version_minor": 0,
       "model_id": "ee6643e8bae74342bfb2f72118c6c794"
      }
     },
     "metadata": {},
     "output_type": "display_data"
    },
    {
     "name": "stdout",
     "output_type": "stream",
     "text": [
      "../data/20230322.top.parquet\n"
     ]
    }
   ],
   "source": [
    "import pandas as pd\n",
    "from tqdm.auto import tqdm\n",
    "import datetime\n",
    "import pathlib\n",
    "import random, time\n",
    "\n",
    "#day = datetime.datetime.strptime('1/23/2023', '%m/%d/%Y')\n",
    "\n",
    "import pandas_market_calendars as mcal\n",
    "# Create a calendar\n",
    "cboe = mcal.get_calendar('CBOE_Equity_Options')\n",
    "\n",
    "date_from = datetime.date(2023, 1, 2)\n",
    "date_to = datetime.date(2023, 3, 22)#date_from#+datetime.timedelta(days=5)\n",
    "\n",
    "try:\n",
    "    ta._query('/format template=api')\n",
    "    for day in cboe.schedule(date_from, date_to).index:\n",
    "        day = day.to_pydatetime().date()\n",
    "\n",
    "        trades_path = pathlib.Path(f'../data/{day.strftime(\"%Y%m%d\")}.trades.parquet')\n",
    "        oi_path = pathlib.Path(f'../data/{day.strftime(\"%Y%m%d\")}.oi.parquet')\n",
    "        top_path = pathlib.Path(f'../data/{day.strftime(\"%Y%m%d\")}.top.parquet')\n",
    "\n",
    "        if trades_path.exists():\n",
    "            trades_df = pd.read_parquet(trades_path)\n",
    "        else:\n",
    "            trades_query = f'/top @all {day.strftime(\"%m/%d/%Y\")} where dollar_impact>=100000 and size>=0.2*adv and size>=500 and open_int<size and dtx<=92 and side!=0'\n",
    "            trades_df = pd.concat([\n",
    "                ta.query_all_trades(f'{trades_query} and time<=\\'11:00:00.000\\'', clean_environment=False),\n",
    "                ta.query_all_trades(f'{trades_query} and time>\\'11:00:00.000\\' and time<=\\'13:00:00.000\\'', clean_environment=False),\n",
    "                ta.query_all_trades(f'{trades_query} and time>\\'13:00:00.000\\' and time<=\\'15:00:00.000\\'', clean_environment=False),\n",
    "                ta.query_all_trades(f'{trades_query} and time>\\'15:00:00.000\\'', clean_environment=False),\n",
    "            ], ignore_index=True, axis=0)\n",
    "            trades_df.sort_values(by='date_time').to_parquet(trades_path)\n",
    "            print(trades_path)\n",
    "            time.sleep(random.randint(3, 10))\n",
    "\n",
    "        if oi_path.exists():\n",
    "            oi_df = pd.read_parquet(oi_path)\n",
    "        else:\n",
    "            oi_query = f'/oi {{symbol}} {day.strftime(\"%m/%d/%Y\")}'\n",
    "            oi_df = pd.concat([\n",
    "                ta.query_oi(oi_query.format(symbol=symbol))\n",
    "                for symbol in tqdm(trades_df.root.unique(), desc=f'OI {day}', leave=False)\n",
    "            ], ignore_index=True, axis=0)\n",
    "            oi_df.to_parquet(oi_path)\n",
    "            print(oi_path)\n",
    "            time.sleep(random.randint(3, 10))\n",
    "\n",
    "        if top_path.exists():\n",
    "            top_df = pd.read_parquet(top_path)\n",
    "        else:\n",
    "            #/top aapl 10/18 where time<='11:12:11.000'\n",
    "            top_query = f'/top {{symbol}} {day.strftime(\"%m/%d/%Y\")} where time<=\\'{{time}}\\''\n",
    "            top_df = pd.concat([\n",
    "                ta.query_all_trades(top_query.format(symbol=symbol, time=trades_df[(trades_df.root==symbol)].date_time.max().strftime('%H:%M:%S.%f')[:-3]), pages=1, clean_environment=False)\n",
    "                for symbol in tqdm(trades_df.root.unique(), desc=f'TOP {day}', leave=False)\n",
    "            ], ignore_index=True, axis=0)\n",
    "            top_df.to_parquet(top_path)\n",
    "            print(top_path)\n",
    "            time.sleep(random.randint(3, 10))\n",
    "            ta.reconnect()\n",
    "\n",
    "finally:\n",
    "    ta._query('/format template=ivan')"
   ],
   "metadata": {
    "collapsed": false
   }
  }
 ],
 "metadata": {
  "kernelspec": {
   "display_name": "Python 3",
   "language": "python",
   "name": "python3"
  },
  "language_info": {
   "codemirror_mode": {
    "name": "ipython",
    "version": 2
   },
   "file_extension": ".py",
   "mimetype": "text/x-python",
   "name": "python",
   "nbconvert_exporter": "python",
   "pygments_lexer": "ipython2",
   "version": "2.7.6"
  }
 },
 "nbformat": 4,
 "nbformat_minor": 0
}
