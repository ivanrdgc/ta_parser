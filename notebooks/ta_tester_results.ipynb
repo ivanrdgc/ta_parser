{
 "cells": [
  {
   "cell_type": "code",
   "execution_count": 69,
   "metadata": {
    "collapsed": true
   },
   "outputs": [],
   "source": [
    "lib_path = '/Users/ivan/Dropbox/Trading/TA_Parser/lib'\n",
    "import sys;sys.path.insert(0, lib_path) if lib_path not in sys.path else None\n",
    "from misc import get_filtered_df, get_history\n",
    "\n",
    "import pandas as pd\n",
    "import numpy as np\n",
    "\n",
    "df = get_filtered_df()\n",
    "hist = get_history()"
   ]
  },
  {
   "cell_type": "code",
   "execution_count": 83,
   "outputs": [
    {
     "data": {
      "text/plain": "       ask ask_exch  ask_size   bid bid_exch  bid_size  check_trade  \\\n0     0.10     ARCA    3680.0  0.05     PHLX    8535.0         True   \n2     4.60     PHLX      95.0  4.30     PHLX      72.0         True   \n3     1.00     PHLX      37.0  0.85     PHLX     447.0         True   \n5     9.80     PHLX      40.0  9.40     PHLX      54.0         True   \n7     1.15     PHLX      47.0  0.85     PHLX      70.0         True   \n...    ...      ...       ...   ...      ...       ...          ...   \n1388  0.75     CBOE     310.0  0.60     CBOE     563.0         True   \n1390  0.55      NOM      25.0  0.45     ARCA       1.0         True   \n1391  0.10     AMEX       1.0  0.00     AMEX       0.0         True   \n1392  0.55      NOM      25.0  0.45     ARCA       1.0         True   \n1402  0.36     EMLD      79.0  0.32     CBOE    2649.0         True   \n\n      close_day  close_dtx  close_dtx_pc  ...    price  root  side   size  \\\n0    2022-10-07        9.0      0.391304  ...  0.10000    SH     2   3680   \n2    2022-10-04        6.0      0.260870  ...  4.66603   CNI     3   2609   \n3    2022-10-07        9.0      0.391304  ...  1.00000   SYY     2   2900   \n5    2022-10-07        9.0      0.391304  ...  9.65000  FIVN     1   4000   \n7    2022-11-04       37.0      0.468354  ...  1.01001  GDYN     1    834   \n...         ...        ...           ...  ...      ...   ...   ...    ...   \n1388 2023-03-08        8.0      0.470588  ...  0.74000   XLB     1   2998   \n1390 2023-03-08        8.0      0.470588  ...  0.55000    CP     2  10331   \n1391 2023-03-08        8.0      0.470588  ...  0.10000    CP     2  17218   \n1392 2023-03-08        8.0      0.470588  ...  0.60000    CP     3   6887   \n1402 2023-03-09        8.0      0.500000  ...  0.35000   XLU     1  10000   \n\n          spot  spot_chg strike      theo  vega_dollar  volume  \n0      17.0350  0.035000   19.0  0.078286       3457.0    3681  \n2     111.3750  2.685000  110.0  4.432300      28552.0    2619  \n3      73.9000  0.920000   77.0  0.922857      18501.0    2923  \n5      77.6550  1.745000   70.0  9.653620      24014.0    4000  \n7      18.9550  0.825000   22.5  1.007650       2665.0     834  \n...        ...       ...    ...       ...          ...     ...  \n1388   82.0450  0.584982   80.0  0.686404      18122.0    3004  \n1390   76.0443 -1.215710   70.0  0.484991      40692.0   21822  \n1391   76.0655 -1.194500   60.0  0.048086      17614.0   20033  \n1392   76.0699 -1.190110   70.0  0.481242      27853.0   20709  \n1402   64.0650 -0.935003   66.0  0.340646      42533.0   10327  \n\n[526 rows x 41 columns]",
      "text/html": "<div>\n<style scoped>\n    .dataframe tbody tr th:only-of-type {\n        vertical-align: middle;\n    }\n\n    .dataframe tbody tr th {\n        vertical-align: top;\n    }\n\n    .dataframe thead th {\n        text-align: right;\n    }\n</style>\n<table border=\"1\" class=\"dataframe\">\n  <thead>\n    <tr style=\"text-align: right;\">\n      <th></th>\n      <th>ask</th>\n      <th>ask_exch</th>\n      <th>ask_size</th>\n      <th>bid</th>\n      <th>bid_exch</th>\n      <th>bid_size</th>\n      <th>check_trade</th>\n      <th>close_day</th>\n      <th>close_dtx</th>\n      <th>close_dtx_pc</th>\n      <th>...</th>\n      <th>price</th>\n      <th>root</th>\n      <th>side</th>\n      <th>size</th>\n      <th>spot</th>\n      <th>spot_chg</th>\n      <th>strike</th>\n      <th>theo</th>\n      <th>vega_dollar</th>\n      <th>volume</th>\n    </tr>\n  </thead>\n  <tbody>\n    <tr>\n      <th>0</th>\n      <td>0.10</td>\n      <td>ARCA</td>\n      <td>3680.0</td>\n      <td>0.05</td>\n      <td>PHLX</td>\n      <td>8535.0</td>\n      <td>True</td>\n      <td>2022-10-07</td>\n      <td>9.0</td>\n      <td>0.391304</td>\n      <td>...</td>\n      <td>0.10000</td>\n      <td>SH</td>\n      <td>2</td>\n      <td>3680</td>\n      <td>17.0350</td>\n      <td>0.035000</td>\n      <td>19.0</td>\n      <td>0.078286</td>\n      <td>3457.0</td>\n      <td>3681</td>\n    </tr>\n    <tr>\n      <th>2</th>\n      <td>4.60</td>\n      <td>PHLX</td>\n      <td>95.0</td>\n      <td>4.30</td>\n      <td>PHLX</td>\n      <td>72.0</td>\n      <td>True</td>\n      <td>2022-10-04</td>\n      <td>6.0</td>\n      <td>0.260870</td>\n      <td>...</td>\n      <td>4.66603</td>\n      <td>CNI</td>\n      <td>3</td>\n      <td>2609</td>\n      <td>111.3750</td>\n      <td>2.685000</td>\n      <td>110.0</td>\n      <td>4.432300</td>\n      <td>28552.0</td>\n      <td>2619</td>\n    </tr>\n    <tr>\n      <th>3</th>\n      <td>1.00</td>\n      <td>PHLX</td>\n      <td>37.0</td>\n      <td>0.85</td>\n      <td>PHLX</td>\n      <td>447.0</td>\n      <td>True</td>\n      <td>2022-10-07</td>\n      <td>9.0</td>\n      <td>0.391304</td>\n      <td>...</td>\n      <td>1.00000</td>\n      <td>SYY</td>\n      <td>2</td>\n      <td>2900</td>\n      <td>73.9000</td>\n      <td>0.920000</td>\n      <td>77.0</td>\n      <td>0.922857</td>\n      <td>18501.0</td>\n      <td>2923</td>\n    </tr>\n    <tr>\n      <th>5</th>\n      <td>9.80</td>\n      <td>PHLX</td>\n      <td>40.0</td>\n      <td>9.40</td>\n      <td>PHLX</td>\n      <td>54.0</td>\n      <td>True</td>\n      <td>2022-10-07</td>\n      <td>9.0</td>\n      <td>0.391304</td>\n      <td>...</td>\n      <td>9.65000</td>\n      <td>FIVN</td>\n      <td>1</td>\n      <td>4000</td>\n      <td>77.6550</td>\n      <td>1.745000</td>\n      <td>70.0</td>\n      <td>9.653620</td>\n      <td>24014.0</td>\n      <td>4000</td>\n    </tr>\n    <tr>\n      <th>7</th>\n      <td>1.15</td>\n      <td>PHLX</td>\n      <td>47.0</td>\n      <td>0.85</td>\n      <td>PHLX</td>\n      <td>70.0</td>\n      <td>True</td>\n      <td>2022-11-04</td>\n      <td>37.0</td>\n      <td>0.468354</td>\n      <td>...</td>\n      <td>1.01001</td>\n      <td>GDYN</td>\n      <td>1</td>\n      <td>834</td>\n      <td>18.9550</td>\n      <td>0.825000</td>\n      <td>22.5</td>\n      <td>1.007650</td>\n      <td>2665.0</td>\n      <td>834</td>\n    </tr>\n    <tr>\n      <th>...</th>\n      <td>...</td>\n      <td>...</td>\n      <td>...</td>\n      <td>...</td>\n      <td>...</td>\n      <td>...</td>\n      <td>...</td>\n      <td>...</td>\n      <td>...</td>\n      <td>...</td>\n      <td>...</td>\n      <td>...</td>\n      <td>...</td>\n      <td>...</td>\n      <td>...</td>\n      <td>...</td>\n      <td>...</td>\n      <td>...</td>\n      <td>...</td>\n      <td>...</td>\n      <td>...</td>\n    </tr>\n    <tr>\n      <th>1388</th>\n      <td>0.75</td>\n      <td>CBOE</td>\n      <td>310.0</td>\n      <td>0.60</td>\n      <td>CBOE</td>\n      <td>563.0</td>\n      <td>True</td>\n      <td>2023-03-08</td>\n      <td>8.0</td>\n      <td>0.470588</td>\n      <td>...</td>\n      <td>0.74000</td>\n      <td>XLB</td>\n      <td>1</td>\n      <td>2998</td>\n      <td>82.0450</td>\n      <td>0.584982</td>\n      <td>80.0</td>\n      <td>0.686404</td>\n      <td>18122.0</td>\n      <td>3004</td>\n    </tr>\n    <tr>\n      <th>1390</th>\n      <td>0.55</td>\n      <td>NOM</td>\n      <td>25.0</td>\n      <td>0.45</td>\n      <td>ARCA</td>\n      <td>1.0</td>\n      <td>True</td>\n      <td>2023-03-08</td>\n      <td>8.0</td>\n      <td>0.470588</td>\n      <td>...</td>\n      <td>0.55000</td>\n      <td>CP</td>\n      <td>2</td>\n      <td>10331</td>\n      <td>76.0443</td>\n      <td>-1.215710</td>\n      <td>70.0</td>\n      <td>0.484991</td>\n      <td>40692.0</td>\n      <td>21822</td>\n    </tr>\n    <tr>\n      <th>1391</th>\n      <td>0.10</td>\n      <td>AMEX</td>\n      <td>1.0</td>\n      <td>0.00</td>\n      <td>AMEX</td>\n      <td>0.0</td>\n      <td>True</td>\n      <td>2023-03-08</td>\n      <td>8.0</td>\n      <td>0.470588</td>\n      <td>...</td>\n      <td>0.10000</td>\n      <td>CP</td>\n      <td>2</td>\n      <td>17218</td>\n      <td>76.0655</td>\n      <td>-1.194500</td>\n      <td>60.0</td>\n      <td>0.048086</td>\n      <td>17614.0</td>\n      <td>20033</td>\n    </tr>\n    <tr>\n      <th>1392</th>\n      <td>0.55</td>\n      <td>NOM</td>\n      <td>25.0</td>\n      <td>0.45</td>\n      <td>ARCA</td>\n      <td>1.0</td>\n      <td>True</td>\n      <td>2023-03-08</td>\n      <td>8.0</td>\n      <td>0.470588</td>\n      <td>...</td>\n      <td>0.60000</td>\n      <td>CP</td>\n      <td>3</td>\n      <td>6887</td>\n      <td>76.0699</td>\n      <td>-1.190110</td>\n      <td>70.0</td>\n      <td>0.481242</td>\n      <td>27853.0</td>\n      <td>20709</td>\n    </tr>\n    <tr>\n      <th>1402</th>\n      <td>0.36</td>\n      <td>EMLD</td>\n      <td>79.0</td>\n      <td>0.32</td>\n      <td>CBOE</td>\n      <td>2649.0</td>\n      <td>True</td>\n      <td>2023-03-09</td>\n      <td>8.0</td>\n      <td>0.500000</td>\n      <td>...</td>\n      <td>0.35000</td>\n      <td>XLU</td>\n      <td>1</td>\n      <td>10000</td>\n      <td>64.0650</td>\n      <td>-0.935003</td>\n      <td>66.0</td>\n      <td>0.340646</td>\n      <td>42533.0</td>\n      <td>10327</td>\n    </tr>\n  </tbody>\n</table>\n<p>526 rows × 41 columns</p>\n</div>"
     },
     "execution_count": 83,
     "metadata": {},
     "output_type": "execute_result"
    }
   ],
   "source": [
    "def check_results(r: pd.Series) -> pd.Series:\n",
    "    _max_dtx = 0.5\n",
    "    _min_profit = 0.6\n",
    "\n",
    "    r['entered'] = False\n",
    "\n",
    "    prices = hist[(hist['option'] == r['option'])]\n",
    "    prices = prices[(prices['date'].dt.date > r['date_time'].date())]\n",
    "    r['half_date'] = r['date'] + np.timedelta64(int(r['dtx']*_max_dtx), 'D')\n",
    "\n",
    "    if pd.Timestamp(r['half_date']) >= pd.Timestamp('2023-03-18'):\n",
    "        return r\n",
    "\n",
    "    prices = prices[(prices['date']<=r['half_date'])]\n",
    "    if len(prices)<=2:\n",
    "        return r\n",
    "\n",
    "    if prices.iloc[0]['open_interest'] < r['size'] or prices.iloc[0]['ask_low'] > r['price']:\n",
    "        return r\n",
    "\n",
    "\n",
    "    close_price = 0\n",
    "    target_price = r['price'] * (1+_min_profit)\n",
    "    close_day = None\n",
    "    for i,pr in prices[1:].iterrows():\n",
    "        close_price = pr['close_bid']\n",
    "        close_day = pr['date']\n",
    "\n",
    "        if pr['open_interest'] < r['size']:\n",
    "            close_price = pr['open_bid']\n",
    "            break\n",
    "\n",
    "        if pr['bid_high'] >= target_price:\n",
    "            close_price = max(pr['bid_low'], target_price)\n",
    "\n",
    "    r['entered'] = True\n",
    "    r['close_day'] = close_day\n",
    "    r['close_dtx'] = (close_day - r['date']) / np.timedelta64(1, 'D')\n",
    "    r['close_dtx_pc'] = r['close_dtx'] / r['dtx']\n",
    "    r['close_price'] = close_price\n",
    "    r['close_profit'] = close_price - r['price']\n",
    "    r['close_profit_pc'] = r['close_profit'] / r['price']\n",
    "\n",
    "    return r\n",
    "\n",
    "pdf = df[(df['side']>0)]\n",
    "pdf = pdf.apply(check_results, axis=1)\n",
    "okdf = pdf[(pdf['entered'])]\n",
    "okdf"
   ],
   "metadata": {
    "collapsed": false
   }
  },
  {
   "cell_type": "code",
   "execution_count": 86,
   "outputs": [
    {
     "data": {
      "text/plain": "      index  size               option  root  dtx expiry_date  strike pc  \\\n0         1  3680    SH221021C00019000    SH   23  2022-10-21    19.0  C   \n1        61  1438  SAIA221021P00190000  SAIA   23  2022-10-21   190.0  P   \n2        70  2609   CNI221021C00110000   CNI   23  2022-10-21   110.0  C   \n3        71  2900   SYY221021C00077000   SYY   23  2022-10-21    77.0  C   \n4        77  2271  CHRW221021C00100000  CHRW   23  2022-10-21   100.0  C   \n...     ...   ...                  ...   ...  ...         ...     ... ..   \n1634  15725  2603   BCE230421C00045000   BCE   30  2023-04-21    45.0  C   \n1635  15726   529  HTHT230519C00055000  HTHT   58  2023-05-19    55.0  C   \n1636  15727  1060  HTHT230519C00055000  HTHT   58  2023-05-19    55.0  C   \n1637  15733  2001   IWN230421P00095000   IWN   30  2023-04-21    95.0  P   \n1638  15737  1480   MGI230421P00008000   MGI   30  2023-04-21     8.0  P   \n\n        price      theo  ...  hilo events   bid    ask  open_int bid_exch  \\\n0     0.10000  0.078286  ...               0.05   0.10      1684     PHLX   \n1     7.70000  8.344700  ...               7.70  10.20        32     AMEX   \n2     4.66603  4.432300  ...               4.30   4.60        44     PHLX   \n3     1.00000  0.922857  ...               0.85   1.00        21     PHLX   \n4     3.49996  3.386130  ...               3.30   3.50        33      BXO   \n...       ...       ...  ...   ...    ...   ...    ...       ...      ...   \n1634  0.50000  0.586946  ...               0.50   0.65       487     MPRL   \n1635  1.60000  1.578639  ...               1.55   1.60        24      ISE   \n1636  1.60000  1.573940  ...               1.55   1.60        24      ISE   \n1637  0.30610  0.175172  ...        ExDiv  0.00   0.35         1      BXO   \n1638  0.10000  0.067419  ...               0.00   0.25        12     MIAX   \n\n      bid_size  ask_size  ask_exch  check_trade  \n0       8535.0    3680.0      ARCA         True  \n1         26.0      17.0       BOX         True  \n2         72.0      95.0      PHLX         True  \n3        447.0      37.0      PHLX         True  \n4         14.0      21.0       BXO         True  \n...        ...       ...       ...          ...  \n1634      94.0      50.0      PHLX         True  \n1635     361.0      17.0       NOM         True  \n1636     336.0      17.0       NOM         True  \n1637       0.0     111.0      PHLX         True  \n1638       0.0       1.0      ARCA         True  \n\n[1639 rows x 33 columns]",
      "text/html": "<div>\n<style scoped>\n    .dataframe tbody tr th:only-of-type {\n        vertical-align: middle;\n    }\n\n    .dataframe tbody tr th {\n        vertical-align: top;\n    }\n\n    .dataframe thead th {\n        text-align: right;\n    }\n</style>\n<table border=\"1\" class=\"dataframe\">\n  <thead>\n    <tr style=\"text-align: right;\">\n      <th></th>\n      <th>index</th>\n      <th>size</th>\n      <th>option</th>\n      <th>root</th>\n      <th>dtx</th>\n      <th>expiry_date</th>\n      <th>strike</th>\n      <th>pc</th>\n      <th>price</th>\n      <th>theo</th>\n      <th>...</th>\n      <th>hilo</th>\n      <th>events</th>\n      <th>bid</th>\n      <th>ask</th>\n      <th>open_int</th>\n      <th>bid_exch</th>\n      <th>bid_size</th>\n      <th>ask_size</th>\n      <th>ask_exch</th>\n      <th>check_trade</th>\n    </tr>\n  </thead>\n  <tbody>\n    <tr>\n      <th>0</th>\n      <td>1</td>\n      <td>3680</td>\n      <td>SH221021C00019000</td>\n      <td>SH</td>\n      <td>23</td>\n      <td>2022-10-21</td>\n      <td>19.0</td>\n      <td>C</td>\n      <td>0.10000</td>\n      <td>0.078286</td>\n      <td>...</td>\n      <td></td>\n      <td></td>\n      <td>0.05</td>\n      <td>0.10</td>\n      <td>1684</td>\n      <td>PHLX</td>\n      <td>8535.0</td>\n      <td>3680.0</td>\n      <td>ARCA</td>\n      <td>True</td>\n    </tr>\n    <tr>\n      <th>1</th>\n      <td>61</td>\n      <td>1438</td>\n      <td>SAIA221021P00190000</td>\n      <td>SAIA</td>\n      <td>23</td>\n      <td>2022-10-21</td>\n      <td>190.0</td>\n      <td>P</td>\n      <td>7.70000</td>\n      <td>8.344700</td>\n      <td>...</td>\n      <td></td>\n      <td></td>\n      <td>7.70</td>\n      <td>10.20</td>\n      <td>32</td>\n      <td>AMEX</td>\n      <td>26.0</td>\n      <td>17.0</td>\n      <td>BOX</td>\n      <td>True</td>\n    </tr>\n    <tr>\n      <th>2</th>\n      <td>70</td>\n      <td>2609</td>\n      <td>CNI221021C00110000</td>\n      <td>CNI</td>\n      <td>23</td>\n      <td>2022-10-21</td>\n      <td>110.0</td>\n      <td>C</td>\n      <td>4.66603</td>\n      <td>4.432300</td>\n      <td>...</td>\n      <td></td>\n      <td></td>\n      <td>4.30</td>\n      <td>4.60</td>\n      <td>44</td>\n      <td>PHLX</td>\n      <td>72.0</td>\n      <td>95.0</td>\n      <td>PHLX</td>\n      <td>True</td>\n    </tr>\n    <tr>\n      <th>3</th>\n      <td>71</td>\n      <td>2900</td>\n      <td>SYY221021C00077000</td>\n      <td>SYY</td>\n      <td>23</td>\n      <td>2022-10-21</td>\n      <td>77.0</td>\n      <td>C</td>\n      <td>1.00000</td>\n      <td>0.922857</td>\n      <td>...</td>\n      <td></td>\n      <td></td>\n      <td>0.85</td>\n      <td>1.00</td>\n      <td>21</td>\n      <td>PHLX</td>\n      <td>447.0</td>\n      <td>37.0</td>\n      <td>PHLX</td>\n      <td>True</td>\n    </tr>\n    <tr>\n      <th>4</th>\n      <td>77</td>\n      <td>2271</td>\n      <td>CHRW221021C00100000</td>\n      <td>CHRW</td>\n      <td>23</td>\n      <td>2022-10-21</td>\n      <td>100.0</td>\n      <td>C</td>\n      <td>3.49996</td>\n      <td>3.386130</td>\n      <td>...</td>\n      <td></td>\n      <td></td>\n      <td>3.30</td>\n      <td>3.50</td>\n      <td>33</td>\n      <td>BXO</td>\n      <td>14.0</td>\n      <td>21.0</td>\n      <td>BXO</td>\n      <td>True</td>\n    </tr>\n    <tr>\n      <th>...</th>\n      <td>...</td>\n      <td>...</td>\n      <td>...</td>\n      <td>...</td>\n      <td>...</td>\n      <td>...</td>\n      <td>...</td>\n      <td>...</td>\n      <td>...</td>\n      <td>...</td>\n      <td>...</td>\n      <td>...</td>\n      <td>...</td>\n      <td>...</td>\n      <td>...</td>\n      <td>...</td>\n      <td>...</td>\n      <td>...</td>\n      <td>...</td>\n      <td>...</td>\n      <td>...</td>\n    </tr>\n    <tr>\n      <th>1634</th>\n      <td>15725</td>\n      <td>2603</td>\n      <td>BCE230421C00045000</td>\n      <td>BCE</td>\n      <td>30</td>\n      <td>2023-04-21</td>\n      <td>45.0</td>\n      <td>C</td>\n      <td>0.50000</td>\n      <td>0.586946</td>\n      <td>...</td>\n      <td></td>\n      <td></td>\n      <td>0.50</td>\n      <td>0.65</td>\n      <td>487</td>\n      <td>MPRL</td>\n      <td>94.0</td>\n      <td>50.0</td>\n      <td>PHLX</td>\n      <td>True</td>\n    </tr>\n    <tr>\n      <th>1635</th>\n      <td>15726</td>\n      <td>529</td>\n      <td>HTHT230519C00055000</td>\n      <td>HTHT</td>\n      <td>58</td>\n      <td>2023-05-19</td>\n      <td>55.0</td>\n      <td>C</td>\n      <td>1.60000</td>\n      <td>1.578639</td>\n      <td>...</td>\n      <td></td>\n      <td></td>\n      <td>1.55</td>\n      <td>1.60</td>\n      <td>24</td>\n      <td>ISE</td>\n      <td>361.0</td>\n      <td>17.0</td>\n      <td>NOM</td>\n      <td>True</td>\n    </tr>\n    <tr>\n      <th>1636</th>\n      <td>15727</td>\n      <td>1060</td>\n      <td>HTHT230519C00055000</td>\n      <td>HTHT</td>\n      <td>58</td>\n      <td>2023-05-19</td>\n      <td>55.0</td>\n      <td>C</td>\n      <td>1.60000</td>\n      <td>1.573940</td>\n      <td>...</td>\n      <td></td>\n      <td></td>\n      <td>1.55</td>\n      <td>1.60</td>\n      <td>24</td>\n      <td>ISE</td>\n      <td>336.0</td>\n      <td>17.0</td>\n      <td>NOM</td>\n      <td>True</td>\n    </tr>\n    <tr>\n      <th>1637</th>\n      <td>15733</td>\n      <td>2001</td>\n      <td>IWN230421P00095000</td>\n      <td>IWN</td>\n      <td>30</td>\n      <td>2023-04-21</td>\n      <td>95.0</td>\n      <td>P</td>\n      <td>0.30610</td>\n      <td>0.175172</td>\n      <td>...</td>\n      <td></td>\n      <td>ExDiv</td>\n      <td>0.00</td>\n      <td>0.35</td>\n      <td>1</td>\n      <td>BXO</td>\n      <td>0.0</td>\n      <td>111.0</td>\n      <td>PHLX</td>\n      <td>True</td>\n    </tr>\n    <tr>\n      <th>1638</th>\n      <td>15737</td>\n      <td>1480</td>\n      <td>MGI230421P00008000</td>\n      <td>MGI</td>\n      <td>30</td>\n      <td>2023-04-21</td>\n      <td>8.0</td>\n      <td>P</td>\n      <td>0.10000</td>\n      <td>0.067419</td>\n      <td>...</td>\n      <td></td>\n      <td></td>\n      <td>0.00</td>\n      <td>0.25</td>\n      <td>12</td>\n      <td>MIAX</td>\n      <td>0.0</td>\n      <td>1.0</td>\n      <td>ARCA</td>\n      <td>True</td>\n    </tr>\n  </tbody>\n</table>\n<p>1639 rows × 33 columns</p>\n</div>"
     },
     "execution_count": 86,
     "metadata": {},
     "output_type": "execute_result"
    }
   ],
   "source": [
    "df"
   ],
   "metadata": {
    "collapsed": false
   }
  },
  {
   "cell_type": "code",
   "execution_count": 85,
   "outputs": [
    {
     "data": {
      "text/plain": "       ask ask_exch  ask_size   bid bid_exch  bid_size  check_trade  \\\n0     0.10     ARCA    3680.0  0.05     PHLX    8535.0         True   \n3     1.00     PHLX      37.0  0.85     PHLX     447.0         True   \n7     1.15     PHLX      47.0  0.85     PHLX      70.0         True   \n11    1.00      BZX      20.0  0.65      BZX      20.0         True   \n12    1.05      BZX     171.0  0.70     PHLX      12.0         True   \n...    ...      ...       ...   ...      ...       ...          ...   \n1387  0.70      NOM       1.0  0.55     AMEX     129.0         True   \n1388  0.75     CBOE     310.0  0.60     CBOE     563.0         True   \n1390  0.55      NOM      25.0  0.45     ARCA       1.0         True   \n1391  0.10     AMEX       1.0  0.00     AMEX       0.0         True   \n1392  0.55      NOM      25.0  0.45     ARCA       1.0         True   \n\n      close_day  close_dtx  close_dtx_pc  ...    price  root  side   size  \\\n0    2022-10-07        9.0      0.391304  ...  0.10000    SH     2   3680   \n3    2022-10-07        9.0      0.391304  ...  1.00000   SYY     2   2900   \n7    2022-11-04       37.0      0.468354  ...  1.01001  GDYN     1    834   \n11   2022-10-07        9.0      0.391304  ...  1.00826   BFH     3    587   \n12   2022-10-07        9.0      0.391304  ...  1.05000   BFH     2    689   \n...         ...        ...           ...  ...      ...   ...   ...    ...   \n1387 2023-03-08        8.0      0.470588  ...  0.70000   SFM     2   4200   \n1388 2023-03-08        8.0      0.470588  ...  0.74000   XLB     1   2998   \n1390 2023-03-08        8.0      0.470588  ...  0.55000    CP     2  10331   \n1391 2023-03-08        8.0      0.470588  ...  0.10000    CP     2  17218   \n1392 2023-03-08        8.0      0.470588  ...  0.60000    CP     3   6887   \n\n         spot  spot_chg strike      theo  vega_dollar  volume  \n0     17.0350  0.035000   19.0  0.078286       3457.0    3681  \n3     73.9000  0.920000   77.0  0.922857      18501.0    2923  \n7     18.9550  0.825000   22.5  1.007650       2665.0     834  \n11    32.4300  0.580000   35.0  0.835711       1751.0     604  \n12    32.4200  0.570000   35.0  0.880688       2066.0    1704  \n...       ...       ...    ...       ...          ...     ...  \n1387  30.6050 -0.325000   29.0  0.627415       9593.0    7089  \n1388  82.0450  0.584982   80.0  0.686404      18122.0    3004  \n1390  76.0443 -1.215710   70.0  0.484991      40692.0   21822  \n1391  76.0655 -1.194500   60.0  0.048086      17614.0   20033  \n1392  76.0699 -1.190110   70.0  0.481242      27853.0   20709  \n\n[386 rows x 41 columns]",
      "text/html": "<div>\n<style scoped>\n    .dataframe tbody tr th:only-of-type {\n        vertical-align: middle;\n    }\n\n    .dataframe tbody tr th {\n        vertical-align: top;\n    }\n\n    .dataframe thead th {\n        text-align: right;\n    }\n</style>\n<table border=\"1\" class=\"dataframe\">\n  <thead>\n    <tr style=\"text-align: right;\">\n      <th></th>\n      <th>ask</th>\n      <th>ask_exch</th>\n      <th>ask_size</th>\n      <th>bid</th>\n      <th>bid_exch</th>\n      <th>bid_size</th>\n      <th>check_trade</th>\n      <th>close_day</th>\n      <th>close_dtx</th>\n      <th>close_dtx_pc</th>\n      <th>...</th>\n      <th>price</th>\n      <th>root</th>\n      <th>side</th>\n      <th>size</th>\n      <th>spot</th>\n      <th>spot_chg</th>\n      <th>strike</th>\n      <th>theo</th>\n      <th>vega_dollar</th>\n      <th>volume</th>\n    </tr>\n  </thead>\n  <tbody>\n    <tr>\n      <th>0</th>\n      <td>0.10</td>\n      <td>ARCA</td>\n      <td>3680.0</td>\n      <td>0.05</td>\n      <td>PHLX</td>\n      <td>8535.0</td>\n      <td>True</td>\n      <td>2022-10-07</td>\n      <td>9.0</td>\n      <td>0.391304</td>\n      <td>...</td>\n      <td>0.10000</td>\n      <td>SH</td>\n      <td>2</td>\n      <td>3680</td>\n      <td>17.0350</td>\n      <td>0.035000</td>\n      <td>19.0</td>\n      <td>0.078286</td>\n      <td>3457.0</td>\n      <td>3681</td>\n    </tr>\n    <tr>\n      <th>3</th>\n      <td>1.00</td>\n      <td>PHLX</td>\n      <td>37.0</td>\n      <td>0.85</td>\n      <td>PHLX</td>\n      <td>447.0</td>\n      <td>True</td>\n      <td>2022-10-07</td>\n      <td>9.0</td>\n      <td>0.391304</td>\n      <td>...</td>\n      <td>1.00000</td>\n      <td>SYY</td>\n      <td>2</td>\n      <td>2900</td>\n      <td>73.9000</td>\n      <td>0.920000</td>\n      <td>77.0</td>\n      <td>0.922857</td>\n      <td>18501.0</td>\n      <td>2923</td>\n    </tr>\n    <tr>\n      <th>7</th>\n      <td>1.15</td>\n      <td>PHLX</td>\n      <td>47.0</td>\n      <td>0.85</td>\n      <td>PHLX</td>\n      <td>70.0</td>\n      <td>True</td>\n      <td>2022-11-04</td>\n      <td>37.0</td>\n      <td>0.468354</td>\n      <td>...</td>\n      <td>1.01001</td>\n      <td>GDYN</td>\n      <td>1</td>\n      <td>834</td>\n      <td>18.9550</td>\n      <td>0.825000</td>\n      <td>22.5</td>\n      <td>1.007650</td>\n      <td>2665.0</td>\n      <td>834</td>\n    </tr>\n    <tr>\n      <th>11</th>\n      <td>1.00</td>\n      <td>BZX</td>\n      <td>20.0</td>\n      <td>0.65</td>\n      <td>BZX</td>\n      <td>20.0</td>\n      <td>True</td>\n      <td>2022-10-07</td>\n      <td>9.0</td>\n      <td>0.391304</td>\n      <td>...</td>\n      <td>1.00826</td>\n      <td>BFH</td>\n      <td>3</td>\n      <td>587</td>\n      <td>32.4300</td>\n      <td>0.580000</td>\n      <td>35.0</td>\n      <td>0.835711</td>\n      <td>1751.0</td>\n      <td>604</td>\n    </tr>\n    <tr>\n      <th>12</th>\n      <td>1.05</td>\n      <td>BZX</td>\n      <td>171.0</td>\n      <td>0.70</td>\n      <td>PHLX</td>\n      <td>12.0</td>\n      <td>True</td>\n      <td>2022-10-07</td>\n      <td>9.0</td>\n      <td>0.391304</td>\n      <td>...</td>\n      <td>1.05000</td>\n      <td>BFH</td>\n      <td>2</td>\n      <td>689</td>\n      <td>32.4200</td>\n      <td>0.570000</td>\n      <td>35.0</td>\n      <td>0.880688</td>\n      <td>2066.0</td>\n      <td>1704</td>\n    </tr>\n    <tr>\n      <th>...</th>\n      <td>...</td>\n      <td>...</td>\n      <td>...</td>\n      <td>...</td>\n      <td>...</td>\n      <td>...</td>\n      <td>...</td>\n      <td>...</td>\n      <td>...</td>\n      <td>...</td>\n      <td>...</td>\n      <td>...</td>\n      <td>...</td>\n      <td>...</td>\n      <td>...</td>\n      <td>...</td>\n      <td>...</td>\n      <td>...</td>\n      <td>...</td>\n      <td>...</td>\n      <td>...</td>\n    </tr>\n    <tr>\n      <th>1387</th>\n      <td>0.70</td>\n      <td>NOM</td>\n      <td>1.0</td>\n      <td>0.55</td>\n      <td>AMEX</td>\n      <td>129.0</td>\n      <td>True</td>\n      <td>2023-03-08</td>\n      <td>8.0</td>\n      <td>0.470588</td>\n      <td>...</td>\n      <td>0.70000</td>\n      <td>SFM</td>\n      <td>2</td>\n      <td>4200</td>\n      <td>30.6050</td>\n      <td>-0.325000</td>\n      <td>29.0</td>\n      <td>0.627415</td>\n      <td>9593.0</td>\n      <td>7089</td>\n    </tr>\n    <tr>\n      <th>1388</th>\n      <td>0.75</td>\n      <td>CBOE</td>\n      <td>310.0</td>\n      <td>0.60</td>\n      <td>CBOE</td>\n      <td>563.0</td>\n      <td>True</td>\n      <td>2023-03-08</td>\n      <td>8.0</td>\n      <td>0.470588</td>\n      <td>...</td>\n      <td>0.74000</td>\n      <td>XLB</td>\n      <td>1</td>\n      <td>2998</td>\n      <td>82.0450</td>\n      <td>0.584982</td>\n      <td>80.0</td>\n      <td>0.686404</td>\n      <td>18122.0</td>\n      <td>3004</td>\n    </tr>\n    <tr>\n      <th>1390</th>\n      <td>0.55</td>\n      <td>NOM</td>\n      <td>25.0</td>\n      <td>0.45</td>\n      <td>ARCA</td>\n      <td>1.0</td>\n      <td>True</td>\n      <td>2023-03-08</td>\n      <td>8.0</td>\n      <td>0.470588</td>\n      <td>...</td>\n      <td>0.55000</td>\n      <td>CP</td>\n      <td>2</td>\n      <td>10331</td>\n      <td>76.0443</td>\n      <td>-1.215710</td>\n      <td>70.0</td>\n      <td>0.484991</td>\n      <td>40692.0</td>\n      <td>21822</td>\n    </tr>\n    <tr>\n      <th>1391</th>\n      <td>0.10</td>\n      <td>AMEX</td>\n      <td>1.0</td>\n      <td>0.00</td>\n      <td>AMEX</td>\n      <td>0.0</td>\n      <td>True</td>\n      <td>2023-03-08</td>\n      <td>8.0</td>\n      <td>0.470588</td>\n      <td>...</td>\n      <td>0.10000</td>\n      <td>CP</td>\n      <td>2</td>\n      <td>17218</td>\n      <td>76.0655</td>\n      <td>-1.194500</td>\n      <td>60.0</td>\n      <td>0.048086</td>\n      <td>17614.0</td>\n      <td>20033</td>\n    </tr>\n    <tr>\n      <th>1392</th>\n      <td>0.55</td>\n      <td>NOM</td>\n      <td>25.0</td>\n      <td>0.45</td>\n      <td>ARCA</td>\n      <td>1.0</td>\n      <td>True</td>\n      <td>2023-03-08</td>\n      <td>8.0</td>\n      <td>0.470588</td>\n      <td>...</td>\n      <td>0.60000</td>\n      <td>CP</td>\n      <td>3</td>\n      <td>6887</td>\n      <td>76.0699</td>\n      <td>-1.190110</td>\n      <td>70.0</td>\n      <td>0.481242</td>\n      <td>27853.0</td>\n      <td>20709</td>\n    </tr>\n  </tbody>\n</table>\n<p>386 rows × 41 columns</p>\n</div>"
     },
     "execution_count": 85,
     "metadata": {},
     "output_type": "execute_result"
    }
   ],
   "source": [
    "okdf[(okdf['close_profit_pc']<0)]"
   ],
   "metadata": {
    "collapsed": false
   }
  }
 ],
 "metadata": {
  "kernelspec": {
   "display_name": "Python 3",
   "language": "python",
   "name": "python3"
  },
  "language_info": {
   "codemirror_mode": {
    "name": "ipython",
    "version": 2
   },
   "file_extension": ".py",
   "mimetype": "text/x-python",
   "name": "python",
   "nbconvert_exporter": "python",
   "pygments_lexer": "ipython2",
   "version": "2.7.6"
  }
 },
 "nbformat": 4,
 "nbformat_minor": 0
}
