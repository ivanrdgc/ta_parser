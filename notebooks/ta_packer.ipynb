{
 "cells": [
  {
   "cell_type": "code",
   "execution_count": 1,
   "metadata": {
    "collapsed": true
   },
   "outputs": [
    {
     "data": {
      "text/plain": "      index  size               option  root  dtx expiry_date  strike pc  \\\n0         1  3680    SH221021C00019000    SH   23  2022-10-21    19.0  C   \n1        61  1438  SAIA221021P00190000  SAIA   23  2022-10-21   190.0  P   \n2        70  2609   CNI221021C00110000   CNI   23  2022-10-21   110.0  C   \n3        71  2900   SYY221021C00077000   SYY   23  2022-10-21    77.0  C   \n4        77  2271  CHRW221021C00100000  CHRW   23  2022-10-21   100.0  C   \n...     ...   ...                  ...   ...  ...         ...     ... ..   \n1634  15725  2603   BCE230421C00045000   BCE   30  2023-04-21    45.0  C   \n1635  15726   529  HTHT230519C00055000  HTHT   58  2023-05-19    55.0  C   \n1636  15727  1060  HTHT230519C00055000  HTHT   58  2023-05-19    55.0  C   \n1637  15733  2001   IWN230421P00095000   IWN   30  2023-04-21    95.0  P   \n1638  15737  1480   MGI230421P00008000   MGI   30  2023-04-21     8.0  P   \n\n        price      theo  ...  cond_extra hilo events   bid    ask open_int  \\\n0     0.10000  0.078286  ...     OPENING              0.05   0.10     1684   \n1     7.70000  8.344700  ...     OPENING              7.70  10.20       32   \n2     4.66603  4.432300  ...     OPENING              4.30   4.60       44   \n3     1.00000  0.922857  ...     OPENING              0.85   1.00       21   \n4     3.49996  3.386130  ...     OPENING              3.30   3.50       33   \n...       ...       ...  ...         ...  ...    ...   ...    ...      ...   \n1634  0.50000  0.586946  ...     OPENING              0.50   0.65      487   \n1635  1.60000  1.578639  ...     OPENING              1.55   1.60       24   \n1636  1.60000  1.573940  ...     OPENING              1.55   1.60       24   \n1637  0.30610  0.175172  ...     OPENING       ExDiv  0.00   0.35        1   \n1638  0.10000  0.067419  ...     OPENING              0.00   0.25       12   \n\n      bid_exch  bid_size  ask_size  ask_exch  \n0         PHLX    8535.0    3680.0      ARCA  \n1         AMEX      26.0      17.0       BOX  \n2         PHLX      72.0      95.0      PHLX  \n3         PHLX     447.0      37.0      PHLX  \n4          BXO      14.0      21.0       BXO  \n...        ...       ...       ...       ...  \n1634      MPRL      94.0      50.0      PHLX  \n1635       ISE     361.0      17.0       NOM  \n1636       ISE     336.0      17.0       NOM  \n1637       BXO       0.0     111.0      PHLX  \n1638      MIAX       0.0       1.0      ARCA  \n\n[1639 rows x 32 columns]",
      "text/html": "<div>\n<style scoped>\n    .dataframe tbody tr th:only-of-type {\n        vertical-align: middle;\n    }\n\n    .dataframe tbody tr th {\n        vertical-align: top;\n    }\n\n    .dataframe thead th {\n        text-align: right;\n    }\n</style>\n<table border=\"1\" class=\"dataframe\">\n  <thead>\n    <tr style=\"text-align: right;\">\n      <th></th>\n      <th>index</th>\n      <th>size</th>\n      <th>option</th>\n      <th>root</th>\n      <th>dtx</th>\n      <th>expiry_date</th>\n      <th>strike</th>\n      <th>pc</th>\n      <th>price</th>\n      <th>theo</th>\n      <th>...</th>\n      <th>cond_extra</th>\n      <th>hilo</th>\n      <th>events</th>\n      <th>bid</th>\n      <th>ask</th>\n      <th>open_int</th>\n      <th>bid_exch</th>\n      <th>bid_size</th>\n      <th>ask_size</th>\n      <th>ask_exch</th>\n    </tr>\n  </thead>\n  <tbody>\n    <tr>\n      <th>0</th>\n      <td>1</td>\n      <td>3680</td>\n      <td>SH221021C00019000</td>\n      <td>SH</td>\n      <td>23</td>\n      <td>2022-10-21</td>\n      <td>19.0</td>\n      <td>C</td>\n      <td>0.10000</td>\n      <td>0.078286</td>\n      <td>...</td>\n      <td>OPENING</td>\n      <td></td>\n      <td></td>\n      <td>0.05</td>\n      <td>0.10</td>\n      <td>1684</td>\n      <td>PHLX</td>\n      <td>8535.0</td>\n      <td>3680.0</td>\n      <td>ARCA</td>\n    </tr>\n    <tr>\n      <th>1</th>\n      <td>61</td>\n      <td>1438</td>\n      <td>SAIA221021P00190000</td>\n      <td>SAIA</td>\n      <td>23</td>\n      <td>2022-10-21</td>\n      <td>190.0</td>\n      <td>P</td>\n      <td>7.70000</td>\n      <td>8.344700</td>\n      <td>...</td>\n      <td>OPENING</td>\n      <td></td>\n      <td></td>\n      <td>7.70</td>\n      <td>10.20</td>\n      <td>32</td>\n      <td>AMEX</td>\n      <td>26.0</td>\n      <td>17.0</td>\n      <td>BOX</td>\n    </tr>\n    <tr>\n      <th>2</th>\n      <td>70</td>\n      <td>2609</td>\n      <td>CNI221021C00110000</td>\n      <td>CNI</td>\n      <td>23</td>\n      <td>2022-10-21</td>\n      <td>110.0</td>\n      <td>C</td>\n      <td>4.66603</td>\n      <td>4.432300</td>\n      <td>...</td>\n      <td>OPENING</td>\n      <td></td>\n      <td></td>\n      <td>4.30</td>\n      <td>4.60</td>\n      <td>44</td>\n      <td>PHLX</td>\n      <td>72.0</td>\n      <td>95.0</td>\n      <td>PHLX</td>\n    </tr>\n    <tr>\n      <th>3</th>\n      <td>71</td>\n      <td>2900</td>\n      <td>SYY221021C00077000</td>\n      <td>SYY</td>\n      <td>23</td>\n      <td>2022-10-21</td>\n      <td>77.0</td>\n      <td>C</td>\n      <td>1.00000</td>\n      <td>0.922857</td>\n      <td>...</td>\n      <td>OPENING</td>\n      <td></td>\n      <td></td>\n      <td>0.85</td>\n      <td>1.00</td>\n      <td>21</td>\n      <td>PHLX</td>\n      <td>447.0</td>\n      <td>37.0</td>\n      <td>PHLX</td>\n    </tr>\n    <tr>\n      <th>4</th>\n      <td>77</td>\n      <td>2271</td>\n      <td>CHRW221021C00100000</td>\n      <td>CHRW</td>\n      <td>23</td>\n      <td>2022-10-21</td>\n      <td>100.0</td>\n      <td>C</td>\n      <td>3.49996</td>\n      <td>3.386130</td>\n      <td>...</td>\n      <td>OPENING</td>\n      <td></td>\n      <td></td>\n      <td>3.30</td>\n      <td>3.50</td>\n      <td>33</td>\n      <td>BXO</td>\n      <td>14.0</td>\n      <td>21.0</td>\n      <td>BXO</td>\n    </tr>\n    <tr>\n      <th>...</th>\n      <td>...</td>\n      <td>...</td>\n      <td>...</td>\n      <td>...</td>\n      <td>...</td>\n      <td>...</td>\n      <td>...</td>\n      <td>...</td>\n      <td>...</td>\n      <td>...</td>\n      <td>...</td>\n      <td>...</td>\n      <td>...</td>\n      <td>...</td>\n      <td>...</td>\n      <td>...</td>\n      <td>...</td>\n      <td>...</td>\n      <td>...</td>\n      <td>...</td>\n      <td>...</td>\n    </tr>\n    <tr>\n      <th>1634</th>\n      <td>15725</td>\n      <td>2603</td>\n      <td>BCE230421C00045000</td>\n      <td>BCE</td>\n      <td>30</td>\n      <td>2023-04-21</td>\n      <td>45.0</td>\n      <td>C</td>\n      <td>0.50000</td>\n      <td>0.586946</td>\n      <td>...</td>\n      <td>OPENING</td>\n      <td></td>\n      <td></td>\n      <td>0.50</td>\n      <td>0.65</td>\n      <td>487</td>\n      <td>MPRL</td>\n      <td>94.0</td>\n      <td>50.0</td>\n      <td>PHLX</td>\n    </tr>\n    <tr>\n      <th>1635</th>\n      <td>15726</td>\n      <td>529</td>\n      <td>HTHT230519C00055000</td>\n      <td>HTHT</td>\n      <td>58</td>\n      <td>2023-05-19</td>\n      <td>55.0</td>\n      <td>C</td>\n      <td>1.60000</td>\n      <td>1.578639</td>\n      <td>...</td>\n      <td>OPENING</td>\n      <td></td>\n      <td></td>\n      <td>1.55</td>\n      <td>1.60</td>\n      <td>24</td>\n      <td>ISE</td>\n      <td>361.0</td>\n      <td>17.0</td>\n      <td>NOM</td>\n    </tr>\n    <tr>\n      <th>1636</th>\n      <td>15727</td>\n      <td>1060</td>\n      <td>HTHT230519C00055000</td>\n      <td>HTHT</td>\n      <td>58</td>\n      <td>2023-05-19</td>\n      <td>55.0</td>\n      <td>C</td>\n      <td>1.60000</td>\n      <td>1.573940</td>\n      <td>...</td>\n      <td>OPENING</td>\n      <td></td>\n      <td></td>\n      <td>1.55</td>\n      <td>1.60</td>\n      <td>24</td>\n      <td>ISE</td>\n      <td>336.0</td>\n      <td>17.0</td>\n      <td>NOM</td>\n    </tr>\n    <tr>\n      <th>1637</th>\n      <td>15733</td>\n      <td>2001</td>\n      <td>IWN230421P00095000</td>\n      <td>IWN</td>\n      <td>30</td>\n      <td>2023-04-21</td>\n      <td>95.0</td>\n      <td>P</td>\n      <td>0.30610</td>\n      <td>0.175172</td>\n      <td>...</td>\n      <td>OPENING</td>\n      <td></td>\n      <td>ExDiv</td>\n      <td>0.00</td>\n      <td>0.35</td>\n      <td>1</td>\n      <td>BXO</td>\n      <td>0.0</td>\n      <td>111.0</td>\n      <td>PHLX</td>\n    </tr>\n    <tr>\n      <th>1638</th>\n      <td>15737</td>\n      <td>1480</td>\n      <td>MGI230421P00008000</td>\n      <td>MGI</td>\n      <td>30</td>\n      <td>2023-04-21</td>\n      <td>8.0</td>\n      <td>P</td>\n      <td>0.10000</td>\n      <td>0.067419</td>\n      <td>...</td>\n      <td>OPENING</td>\n      <td></td>\n      <td></td>\n      <td>0.00</td>\n      <td>0.25</td>\n      <td>12</td>\n      <td>MIAX</td>\n      <td>0.0</td>\n      <td>1.0</td>\n      <td>ARCA</td>\n    </tr>\n  </tbody>\n</table>\n<p>1639 rows × 32 columns</p>\n</div>"
     },
     "execution_count": 1,
     "metadata": {},
     "output_type": "execute_result"
    }
   ],
   "source": [
    "lib_path = '/Users/ivan/Dropbox/Trading/TA_Parser/lib'\n",
    "import sys;sys.path.insert(0, lib_path) if lib_path not in sys.path else None\n",
    "from misc import get_filtered_df\n",
    "\n",
    "df = get_filtered_df()\n",
    "df"
   ]
  },
  {
   "cell_type": "code",
   "execution_count": 6,
   "outputs": [],
   "source": [
    "df.to_csv('../qcdb.csv')"
   ],
   "metadata": {
    "collapsed": false
   }
  }
 ],
 "metadata": {
  "kernelspec": {
   "display_name": "Python 3",
   "language": "python",
   "name": "python3"
  },
  "language_info": {
   "codemirror_mode": {
    "name": "ipython",
    "version": 2
   },
   "file_extension": ".py",
   "mimetype": "text/x-python",
   "name": "python",
   "nbconvert_exporter": "python",
   "pygments_lexer": "ipython2",
   "version": "2.7.6"
  }
 },
 "nbformat": 4,
 "nbformat_minor": 0
}
