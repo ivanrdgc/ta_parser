{
 "cells": [
  {
   "cell_type": "code",
   "execution_count": 2,
   "metadata": {
    "collapsed": true
   },
   "outputs": [
    {
     "data": {
      "text/plain": "      size usymbol expiry_date  strike pc    price      theo  side     exch  \\\n0     1438    SAIA  2022-10-21   190.0  P  7.70000  8.344700    -2      BOX   \n1     2609     CNI  2022-10-21   110.0  C  4.66603  4.432300     3  [MULTI]   \n2      566     OSG  2022-11-18     2.5  C  0.70000  0.699999    -2  [MULTI]   \n3     1000    SILK  2022-11-18    50.0  C  2.75000  3.066950    -1      BOX   \n4      540    KROS  2022-10-21    30.0  C  8.25000  8.364420     1   [AMEX]   \n..     ...     ...         ...     ... ..      ...       ...   ...      ...   \n396   2690     AON  2023-03-17   330.0  C  1.00000  1.296140    -2     AMEX   \n397  14390     COF  2023-03-17   125.0  C  0.60000  0.675698    -2     AMEX   \n398   3000    TGNA  2023-03-17    17.0  P  0.25000  0.174325    -1     CBOE   \n399    600    SOVO  2023-05-19    15.0  C  0.70000  0.724481    -2   [ARCA]   \n400    500      DH  2023-03-17    15.0  C  0.85000  0.884430    -1     ARCA   \n\n                           date_time  volume   cond      ivol  ivol_chg  \\\n0   2022-09-28 12:12:00.250000-04:00    1500    FLR  0.587407 -0.028093   \n1   2022-09-28 12:46:33.826000-04:00    2619    ISO  0.336441  0.019525   \n2   2022-09-28 14:59:29.275000-04:00    1000         1.158380  0.411377   \n3   2022-09-29 10:14:23.870000-04:00    1000    FLR  0.568433  0.024939   \n4   2022-09-29 12:19:57.570000-04:00     540    FLR  1.155940  0.099390   \n..                               ...     ...    ...       ...       ...   \n396 2023-02-16 11:57:05.318000-05:00    2695    FLR  0.178344 -0.002303   \n397 2023-02-16 12:43:46.075000-05:00   14392    FLR  0.283778 -0.023438   \n398 2023-02-16 13:43:28.616000-05:00    3012  CROSS  0.659497 -0.100780   \n399 2023-02-16 15:23:08.322000-05:00     737         0.485551 -0.146412   \n400 2023-02-16 15:54:49.008000-05:00    1189   LATE  1.026820  0.235179   \n\n        delta     spot  spot_chg  vega_dollar cond_extra hilo events   bid  \\\n0   -0.357175  197.940     5.680      26783.0    OPENING              7.70   \n1    0.584749  111.375     2.685      28552.0    OPENING              4.30   \n2    0.711910    2.990     0.040        204.0    OPENING              0.70   \n3    0.430177   46.595    -1.345       6822.0    OPENING              1.50   \n4    0.815830   36.500    -0.150       1341.0    OPENING              5.70   \n..        ...      ...       ...          ...        ...  ...    ...   ...   \n396  0.132154  310.280    -4.790      51854.0    OPENING              1.00   \n397  0.136844  113.630    -1.000     102641.0    OPENING              0.60   \n398 -0.123895   20.615     0.145       3570.0    OPENING              0.05   \n399  0.367224   13.100    -0.710       1495.0    OPENING              0.70   \n400  0.372112   13.745    -0.265        703.0    OPENING              0.75   \n\n       ask  open_int bid_exch  bid_size  ask_size ask_exch  \n0    10.20        32     AMEX      26.0      17.0      BOX  \n1     4.60        44     PHLX      72.0      95.0     PHLX  \n2     0.75        15     CBOE     113.0     171.0      BZX  \n3     4.90         3      BOX      37.0      50.0      BOX  \n4    10.00         0     AMEX      42.0      20.0     PHLX  \n..     ...       ...      ...       ...       ...      ...  \n396   1.60       606     GEMX       6.0      13.0      BOX  \n397   0.75      1051     PHLX     565.0       1.0      BZX  \n398   0.60       271     PHLX      30.0       1.0     ARCA  \n399   0.75       111     ARCA     863.0      53.0       C2  \n400   1.00        53     ARCA      20.0       1.0     ARCA  \n\n[401 rows x 28 columns]",
      "text/html": "<div>\n<style scoped>\n    .dataframe tbody tr th:only-of-type {\n        vertical-align: middle;\n    }\n\n    .dataframe tbody tr th {\n        vertical-align: top;\n    }\n\n    .dataframe thead th {\n        text-align: right;\n    }\n</style>\n<table border=\"1\" class=\"dataframe\">\n  <thead>\n    <tr style=\"text-align: right;\">\n      <th></th>\n      <th>size</th>\n      <th>usymbol</th>\n      <th>expiry_date</th>\n      <th>strike</th>\n      <th>pc</th>\n      <th>price</th>\n      <th>theo</th>\n      <th>side</th>\n      <th>exch</th>\n      <th>date_time</th>\n      <th>volume</th>\n      <th>cond</th>\n      <th>ivol</th>\n      <th>ivol_chg</th>\n      <th>delta</th>\n      <th>spot</th>\n      <th>spot_chg</th>\n      <th>vega_dollar</th>\n      <th>cond_extra</th>\n      <th>hilo</th>\n      <th>events</th>\n      <th>bid</th>\n      <th>ask</th>\n      <th>open_int</th>\n      <th>bid_exch</th>\n      <th>bid_size</th>\n      <th>ask_size</th>\n      <th>ask_exch</th>\n    </tr>\n  </thead>\n  <tbody>\n    <tr>\n      <th>0</th>\n      <td>1438</td>\n      <td>SAIA</td>\n      <td>2022-10-21</td>\n      <td>190.0</td>\n      <td>P</td>\n      <td>7.70000</td>\n      <td>8.344700</td>\n      <td>-2</td>\n      <td>BOX</td>\n      <td>2022-09-28 12:12:00.250000-04:00</td>\n      <td>1500</td>\n      <td>FLR</td>\n      <td>0.587407</td>\n      <td>-0.028093</td>\n      <td>-0.357175</td>\n      <td>197.940</td>\n      <td>5.680</td>\n      <td>26783.0</td>\n      <td>OPENING</td>\n      <td></td>\n      <td></td>\n      <td>7.70</td>\n      <td>10.20</td>\n      <td>32</td>\n      <td>AMEX</td>\n      <td>26.0</td>\n      <td>17.0</td>\n      <td>BOX</td>\n    </tr>\n    <tr>\n      <th>1</th>\n      <td>2609</td>\n      <td>CNI</td>\n      <td>2022-10-21</td>\n      <td>110.0</td>\n      <td>C</td>\n      <td>4.66603</td>\n      <td>4.432300</td>\n      <td>3</td>\n      <td>[MULTI]</td>\n      <td>2022-09-28 12:46:33.826000-04:00</td>\n      <td>2619</td>\n      <td>ISO</td>\n      <td>0.336441</td>\n      <td>0.019525</td>\n      <td>0.584749</td>\n      <td>111.375</td>\n      <td>2.685</td>\n      <td>28552.0</td>\n      <td>OPENING</td>\n      <td></td>\n      <td></td>\n      <td>4.30</td>\n      <td>4.60</td>\n      <td>44</td>\n      <td>PHLX</td>\n      <td>72.0</td>\n      <td>95.0</td>\n      <td>PHLX</td>\n    </tr>\n    <tr>\n      <th>2</th>\n      <td>566</td>\n      <td>OSG</td>\n      <td>2022-11-18</td>\n      <td>2.5</td>\n      <td>C</td>\n      <td>0.70000</td>\n      <td>0.699999</td>\n      <td>-2</td>\n      <td>[MULTI]</td>\n      <td>2022-09-28 14:59:29.275000-04:00</td>\n      <td>1000</td>\n      <td></td>\n      <td>1.158380</td>\n      <td>0.411377</td>\n      <td>0.711910</td>\n      <td>2.990</td>\n      <td>0.040</td>\n      <td>204.0</td>\n      <td>OPENING</td>\n      <td></td>\n      <td></td>\n      <td>0.70</td>\n      <td>0.75</td>\n      <td>15</td>\n      <td>CBOE</td>\n      <td>113.0</td>\n      <td>171.0</td>\n      <td>BZX</td>\n    </tr>\n    <tr>\n      <th>3</th>\n      <td>1000</td>\n      <td>SILK</td>\n      <td>2022-11-18</td>\n      <td>50.0</td>\n      <td>C</td>\n      <td>2.75000</td>\n      <td>3.066950</td>\n      <td>-1</td>\n      <td>BOX</td>\n      <td>2022-09-29 10:14:23.870000-04:00</td>\n      <td>1000</td>\n      <td>FLR</td>\n      <td>0.568433</td>\n      <td>0.024939</td>\n      <td>0.430177</td>\n      <td>46.595</td>\n      <td>-1.345</td>\n      <td>6822.0</td>\n      <td>OPENING</td>\n      <td></td>\n      <td></td>\n      <td>1.50</td>\n      <td>4.90</td>\n      <td>3</td>\n      <td>BOX</td>\n      <td>37.0</td>\n      <td>50.0</td>\n      <td>BOX</td>\n    </tr>\n    <tr>\n      <th>4</th>\n      <td>540</td>\n      <td>KROS</td>\n      <td>2022-10-21</td>\n      <td>30.0</td>\n      <td>C</td>\n      <td>8.25000</td>\n      <td>8.364420</td>\n      <td>1</td>\n      <td>[AMEX]</td>\n      <td>2022-09-29 12:19:57.570000-04:00</td>\n      <td>540</td>\n      <td>FLR</td>\n      <td>1.155940</td>\n      <td>0.099390</td>\n      <td>0.815830</td>\n      <td>36.500</td>\n      <td>-0.150</td>\n      <td>1341.0</td>\n      <td>OPENING</td>\n      <td></td>\n      <td></td>\n      <td>5.70</td>\n      <td>10.00</td>\n      <td>0</td>\n      <td>AMEX</td>\n      <td>42.0</td>\n      <td>20.0</td>\n      <td>PHLX</td>\n    </tr>\n    <tr>\n      <th>...</th>\n      <td>...</td>\n      <td>...</td>\n      <td>...</td>\n      <td>...</td>\n      <td>...</td>\n      <td>...</td>\n      <td>...</td>\n      <td>...</td>\n      <td>...</td>\n      <td>...</td>\n      <td>...</td>\n      <td>...</td>\n      <td>...</td>\n      <td>...</td>\n      <td>...</td>\n      <td>...</td>\n      <td>...</td>\n      <td>...</td>\n      <td>...</td>\n      <td>...</td>\n      <td>...</td>\n      <td>...</td>\n      <td>...</td>\n      <td>...</td>\n      <td>...</td>\n      <td>...</td>\n      <td>...</td>\n      <td>...</td>\n    </tr>\n    <tr>\n      <th>396</th>\n      <td>2690</td>\n      <td>AON</td>\n      <td>2023-03-17</td>\n      <td>330.0</td>\n      <td>C</td>\n      <td>1.00000</td>\n      <td>1.296140</td>\n      <td>-2</td>\n      <td>AMEX</td>\n      <td>2023-02-16 11:57:05.318000-05:00</td>\n      <td>2695</td>\n      <td>FLR</td>\n      <td>0.178344</td>\n      <td>-0.002303</td>\n      <td>0.132154</td>\n      <td>310.280</td>\n      <td>-4.790</td>\n      <td>51854.0</td>\n      <td>OPENING</td>\n      <td></td>\n      <td></td>\n      <td>1.00</td>\n      <td>1.60</td>\n      <td>606</td>\n      <td>GEMX</td>\n      <td>6.0</td>\n      <td>13.0</td>\n      <td>BOX</td>\n    </tr>\n    <tr>\n      <th>397</th>\n      <td>14390</td>\n      <td>COF</td>\n      <td>2023-03-17</td>\n      <td>125.0</td>\n      <td>C</td>\n      <td>0.60000</td>\n      <td>0.675698</td>\n      <td>-2</td>\n      <td>AMEX</td>\n      <td>2023-02-16 12:43:46.075000-05:00</td>\n      <td>14392</td>\n      <td>FLR</td>\n      <td>0.283778</td>\n      <td>-0.023438</td>\n      <td>0.136844</td>\n      <td>113.630</td>\n      <td>-1.000</td>\n      <td>102641.0</td>\n      <td>OPENING</td>\n      <td></td>\n      <td></td>\n      <td>0.60</td>\n      <td>0.75</td>\n      <td>1051</td>\n      <td>PHLX</td>\n      <td>565.0</td>\n      <td>1.0</td>\n      <td>BZX</td>\n    </tr>\n    <tr>\n      <th>398</th>\n      <td>3000</td>\n      <td>TGNA</td>\n      <td>2023-03-17</td>\n      <td>17.0</td>\n      <td>P</td>\n      <td>0.25000</td>\n      <td>0.174325</td>\n      <td>-1</td>\n      <td>CBOE</td>\n      <td>2023-02-16 13:43:28.616000-05:00</td>\n      <td>3012</td>\n      <td>CROSS</td>\n      <td>0.659497</td>\n      <td>-0.100780</td>\n      <td>-0.123895</td>\n      <td>20.615</td>\n      <td>0.145</td>\n      <td>3570.0</td>\n      <td>OPENING</td>\n      <td></td>\n      <td></td>\n      <td>0.05</td>\n      <td>0.60</td>\n      <td>271</td>\n      <td>PHLX</td>\n      <td>30.0</td>\n      <td>1.0</td>\n      <td>ARCA</td>\n    </tr>\n    <tr>\n      <th>399</th>\n      <td>600</td>\n      <td>SOVO</td>\n      <td>2023-05-19</td>\n      <td>15.0</td>\n      <td>C</td>\n      <td>0.70000</td>\n      <td>0.724481</td>\n      <td>-2</td>\n      <td>[ARCA]</td>\n      <td>2023-02-16 15:23:08.322000-05:00</td>\n      <td>737</td>\n      <td></td>\n      <td>0.485551</td>\n      <td>-0.146412</td>\n      <td>0.367224</td>\n      <td>13.100</td>\n      <td>-0.710</td>\n      <td>1495.0</td>\n      <td>OPENING</td>\n      <td></td>\n      <td></td>\n      <td>0.70</td>\n      <td>0.75</td>\n      <td>111</td>\n      <td>ARCA</td>\n      <td>863.0</td>\n      <td>53.0</td>\n      <td>C2</td>\n    </tr>\n    <tr>\n      <th>400</th>\n      <td>500</td>\n      <td>DH</td>\n      <td>2023-03-17</td>\n      <td>15.0</td>\n      <td>C</td>\n      <td>0.85000</td>\n      <td>0.884430</td>\n      <td>-1</td>\n      <td>ARCA</td>\n      <td>2023-02-16 15:54:49.008000-05:00</td>\n      <td>1189</td>\n      <td>LATE</td>\n      <td>1.026820</td>\n      <td>0.235179</td>\n      <td>0.372112</td>\n      <td>13.745</td>\n      <td>-0.265</td>\n      <td>703.0</td>\n      <td>OPENING</td>\n      <td></td>\n      <td></td>\n      <td>0.75</td>\n      <td>1.00</td>\n      <td>53</td>\n      <td>ARCA</td>\n      <td>20.0</td>\n      <td>1.0</td>\n      <td>ARCA</td>\n    </tr>\n  </tbody>\n</table>\n<p>401 rows × 28 columns</p>\n</div>"
     },
     "execution_count": 2,
     "metadata": {},
     "output_type": "execute_result"
    }
   ],
   "source": [
    "import pandas as pd\n",
    "import datetime\n",
    "pd.set_option('display.max_columns', None)\n",
    "\n",
    "import pandas_market_calendars as mcal\n",
    "# Create a calendar\n",
    "cboe = mcal.get_calendar('CBOE_Equity_Options')\n",
    "\n",
    "date_from = datetime.date(2022, 9, 28)\n",
    "date_to = datetime.date(2023, 2, 16)#date_from#+datetime.timedelta(days=5)\n",
    "\n",
    "def strict_dom_check_trade(r: pd.Series, oi_df, top_df) -> bool:\n",
    "    if (pd.to_datetime(r['expiry_date']).date() - day).days < 15: return False\n",
    "    if (abs(r['delta']) < 0.1): return False\n",
    "    if r['side'] == 0: return False\n",
    "    if 'SPRD' in r['cond']: return False\n",
    "\n",
    "    poi = oi_df[(oi_df['Symbol'] == r['usymbol'])]\n",
    "    try:\n",
    "        if poi.iloc[0]['OI'] >= r['size']: return False\n",
    "    except IndexError:\n",
    "        return False\n",
    "\n",
    "    ptop = top_df[(top_df['usymbol'] == r['usymbol']) & (top_df['date_time'] <= r['date_time'])]\n",
    "    topdic = ptop.iloc[0].to_dict()\n",
    "    rdic = r.to_dict()\n",
    "    keys = topdic.keys() & r.keys()\n",
    "    if {k:topdic[k] for k in topdic if k in keys} != {k:rdic[k] for k in rdic if k in keys}:\n",
    "        return False\n",
    "    return len(ptop) <= 1 or ptop.iloc[1]['size'] < r['size']\n",
    "\n",
    "all_trades = []\n",
    "for day in cboe.schedule(date_from, date_to).index:\n",
    "    day = day.date()\n",
    "    trades_df = pd.read_parquet(f'../data/{day.strftime(\"%Y%m%d\")}.trades.parquet')\n",
    "    oi_df = pd.read_parquet(f'../data/{day.strftime(\"%Y%m%d\")}.oi.parquet')\n",
    "    top_df = pd.read_parquet(f'../data/{day.strftime(\"%Y%m%d\")}.top.parquet')\n",
    "\n",
    "    if len(oi_df) <= 0:\n",
    "        print(day)\n",
    "\n",
    "    trades_df['check_trade'] = False\n",
    "    trades_df['check_trade'] = trades_df.apply(strict_dom_check_trade, axis=1, args=(oi_df, top_df))\n",
    "    all_trades.append(trades_df[(trades_df['check_trade'] == True)].reset_index(drop=True).drop(columns=['check_trade']))\n",
    "\n",
    "all_trades = pd.concat(all_trades, ignore_index=True, axis=0).sort_values(by='date_time')\n",
    "all_trades"
   ]
  },
  {
   "cell_type": "code",
   "execution_count": 4,
   "outputs": [],
   "source": [
    "all_trades.to_csv('signals.csv', index=False)"
   ],
   "metadata": {
    "collapsed": false
   }
  },
  {
   "cell_type": "code",
   "execution_count": 4,
   "outputs": [
    {
     "data": {
      "text/plain": "size                                int64\nusymbol                            object\nexpiry_date                datetime64[ns]\nstrike                            float64\npc                                 object\nprice                             float64\ntheo                              float64\nside                                 int8\nexch                               object\ndate_time      datetime64[ns, US/Eastern]\nvolume                              int64\ncond                               object\nivol                              float64\nivol_chg                          float64\ndelta                             float64\nspot                              float64\nspot_chg                          float64\nvega_dollar                       float64\ncond_extra                         object\nhilo                               object\nevents                             object\nbid                               float64\nask                               float64\nopen_int                            int64\nbid_exch                           object\nbid_size                          Float64\nask_size                          Float64\nask_exch                           object\ndtype: object"
     },
     "execution_count": 4,
     "metadata": {},
     "output_type": "execute_result"
    }
   ],
   "source": [
    "all_trades.dtypes"
   ],
   "metadata": {
    "collapsed": false
   }
  }
 ],
 "metadata": {
  "kernelspec": {
   "display_name": "Python 3",
   "language": "python",
   "name": "python3"
  },
  "language_info": {
   "codemirror_mode": {
    "name": "ipython",
    "version": 2
   },
   "file_extension": ".py",
   "mimetype": "text/x-python",
   "name": "python",
   "nbconvert_exporter": "python",
   "pygments_lexer": "ipython2",
   "version": "2.7.6"
  }
 },
 "nbformat": 4,
 "nbformat_minor": 0
}
