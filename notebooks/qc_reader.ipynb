{
 "cells": [
  {
   "cell_type": "code",
   "execution_count": 1,
   "metadata": {
    "collapsed": true
   },
   "outputs": [],
   "source": [
    "import json, base64\n",
    "import pandas as pd\n",
    "from io import BytesIO\n",
    "import requests\n",
    "\n",
    "tree = json.loads(requests.get('https://www.dropbox.com/s/hyo5vbwcjfxz26i/tree.json?dl=1').text)\n",
    "\n",
    "for k, v in list(tree.items()):\n",
    "    tree[k] = pd.read_parquet(BytesIO(base64.decodebytes(v.encode())))"
   ]
  },
  {
   "cell_type": "code",
   "execution_count": 3,
   "outputs": [
    {
     "data": {
      "text/plain": "       size usymbol expiry_date  strike pc  price      theo  side    exch  \\\n7034    500   NANOS  2022-12-30   382.0  C   4.25  4.180260     0  [CBOE]   \n12451   500   NANOS  2022-12-28   382.0  P   3.71  3.624020     0  [CBOE]   \n1901   1000   NANOS  2023-01-25   405.0  C   1.02  1.007870     0  [CBOE]   \n1902   1000   NANOS  2023-01-25   405.0  C   1.02  0.997933     0  [CBOE]   \n1903   1000   NANOS  2023-01-25   405.0  C   1.02  0.999614     0  [CBOE]   \n1904   1000   NANOS  2023-01-25   405.0  C   1.05  1.008610     0  [CBOE]   \n9697    500   NANOS  2023-02-01   394.0  C   5.51  5.467690     0  [CBOE]   \n4411    500   NANOS  2023-02-27   402.0  C   3.98  3.923950     0  [CBOE]   \n10649  1000   NANOS  2023-03-01   396.0  P   0.96  0.954282     0  [CBOE]   \n6584   1000   NANOS  2023-03-06   398.0  P   0.93  0.913144     0  [CBOE]   \n13271  1000   NANOS  2023-03-17   397.0  C   0.84  0.839933     0  [CBOE]   \n13272  1000   NANOS  2023-03-17   396.0  C   1.25  1.283190     0  [CBOE]   \n13275  1000   NANOS  2023-03-17   394.0  P   1.36  0.747300     0  [CBOE]   \n13286  1000   NANOS  2023-03-17   396.0  C   0.89  0.490127     0  [CBOE]   \n\n                             date_time  ...  cond_extra hilo  events   bid  \\\n7034  2022-12-22 09:50:05.550000-05:00  ...     OPENING               4.15   \n12451 2022-12-23 09:37:26.033000-05:00  ...     OPENING               3.61   \n1901  2023-01-18 09:31:46.700000-05:00  ...     OPENING               0.94   \n1902  2023-01-18 09:33:44.930000-05:00  ...     OPENING               0.94   \n1903  2023-01-18 09:34:58.029000-05:00  ...     OPENING               0.94   \n1904  2023-01-18 09:36:35.903000-05:00  ...     OPENING               0.97   \n9697  2023-01-25 09:59:54.764000-05:00  ...     OPENING               5.37   \n4411  2023-02-21 10:48:53.769000-05:00  ...     OPENING               3.88   \n10649 2023-02-27 14:03:10.492000-05:00  ...     OPENING               0.87   \n6584  2023-03-03 10:14:34.822000-05:00  ...     OPENING               0.85   \n13271 2023-03-17 09:31:00.248000-04:00  ...     OPENING               0.75   \n13272 2023-03-17 09:32:11.472000-04:00  ...     OPENING               1.16   \n13275 2023-03-17 09:42:32.938000-04:00  ...     OPENING               1.27   \n13286 2023-03-17 10:09:36.628000-04:00  ...     OPENING               0.80   \n\n       ask  open_int  bid_exch  bid_size ask_size ask_exch  \n7034   0.0         0      None      <NA>     <NA>     None  \n12451  0.0         1      None      <NA>     <NA>     None  \n1901   0.0         0      None      <NA>     <NA>     None  \n1902   0.0         0      None      <NA>     <NA>     None  \n1903   0.0         0      None      <NA>     <NA>     None  \n1904   0.0         0      None      <NA>     <NA>     None  \n9697   0.0         0      None      <NA>     <NA>     None  \n4411   0.0         0      None      <NA>     <NA>     None  \n10649  0.0         0      None      <NA>     <NA>     None  \n6584   0.0         0      None      <NA>     <NA>     None  \n13271  0.0         0      None      <NA>     <NA>     None  \n13272  0.0        32      None      <NA>     <NA>     None  \n13275  0.0        27      None      <NA>     <NA>     None  \n13286  0.0        32      None      <NA>     <NA>     None  \n\n[14 rows x 28 columns]",
      "text/html": "<div>\n<style scoped>\n    .dataframe tbody tr th:only-of-type {\n        vertical-align: middle;\n    }\n\n    .dataframe tbody tr th {\n        vertical-align: top;\n    }\n\n    .dataframe thead th {\n        text-align: right;\n    }\n</style>\n<table border=\"1\" class=\"dataframe\">\n  <thead>\n    <tr style=\"text-align: right;\">\n      <th></th>\n      <th>size</th>\n      <th>usymbol</th>\n      <th>expiry_date</th>\n      <th>strike</th>\n      <th>pc</th>\n      <th>price</th>\n      <th>theo</th>\n      <th>side</th>\n      <th>exch</th>\n      <th>date_time</th>\n      <th>...</th>\n      <th>cond_extra</th>\n      <th>hilo</th>\n      <th>events</th>\n      <th>bid</th>\n      <th>ask</th>\n      <th>open_int</th>\n      <th>bid_exch</th>\n      <th>bid_size</th>\n      <th>ask_size</th>\n      <th>ask_exch</th>\n    </tr>\n  </thead>\n  <tbody>\n    <tr>\n      <th>7034</th>\n      <td>500</td>\n      <td>NANOS</td>\n      <td>2022-12-30</td>\n      <td>382.0</td>\n      <td>C</td>\n      <td>4.25</td>\n      <td>4.180260</td>\n      <td>0</td>\n      <td>[CBOE]</td>\n      <td>2022-12-22 09:50:05.550000-05:00</td>\n      <td>...</td>\n      <td>OPENING</td>\n      <td></td>\n      <td></td>\n      <td>4.15</td>\n      <td>0.0</td>\n      <td>0</td>\n      <td>None</td>\n      <td>&lt;NA&gt;</td>\n      <td>&lt;NA&gt;</td>\n      <td>None</td>\n    </tr>\n    <tr>\n      <th>12451</th>\n      <td>500</td>\n      <td>NANOS</td>\n      <td>2022-12-28</td>\n      <td>382.0</td>\n      <td>P</td>\n      <td>3.71</td>\n      <td>3.624020</td>\n      <td>0</td>\n      <td>[CBOE]</td>\n      <td>2022-12-23 09:37:26.033000-05:00</td>\n      <td>...</td>\n      <td>OPENING</td>\n      <td></td>\n      <td></td>\n      <td>3.61</td>\n      <td>0.0</td>\n      <td>1</td>\n      <td>None</td>\n      <td>&lt;NA&gt;</td>\n      <td>&lt;NA&gt;</td>\n      <td>None</td>\n    </tr>\n    <tr>\n      <th>1901</th>\n      <td>1000</td>\n      <td>NANOS</td>\n      <td>2023-01-25</td>\n      <td>405.0</td>\n      <td>C</td>\n      <td>1.02</td>\n      <td>1.007870</td>\n      <td>0</td>\n      <td>[CBOE]</td>\n      <td>2023-01-18 09:31:46.700000-05:00</td>\n      <td>...</td>\n      <td>OPENING</td>\n      <td></td>\n      <td></td>\n      <td>0.94</td>\n      <td>0.0</td>\n      <td>0</td>\n      <td>None</td>\n      <td>&lt;NA&gt;</td>\n      <td>&lt;NA&gt;</td>\n      <td>None</td>\n    </tr>\n    <tr>\n      <th>1902</th>\n      <td>1000</td>\n      <td>NANOS</td>\n      <td>2023-01-25</td>\n      <td>405.0</td>\n      <td>C</td>\n      <td>1.02</td>\n      <td>0.997933</td>\n      <td>0</td>\n      <td>[CBOE]</td>\n      <td>2023-01-18 09:33:44.930000-05:00</td>\n      <td>...</td>\n      <td>OPENING</td>\n      <td></td>\n      <td></td>\n      <td>0.94</td>\n      <td>0.0</td>\n      <td>0</td>\n      <td>None</td>\n      <td>&lt;NA&gt;</td>\n      <td>&lt;NA&gt;</td>\n      <td>None</td>\n    </tr>\n    <tr>\n      <th>1903</th>\n      <td>1000</td>\n      <td>NANOS</td>\n      <td>2023-01-25</td>\n      <td>405.0</td>\n      <td>C</td>\n      <td>1.02</td>\n      <td>0.999614</td>\n      <td>0</td>\n      <td>[CBOE]</td>\n      <td>2023-01-18 09:34:58.029000-05:00</td>\n      <td>...</td>\n      <td>OPENING</td>\n      <td></td>\n      <td></td>\n      <td>0.94</td>\n      <td>0.0</td>\n      <td>0</td>\n      <td>None</td>\n      <td>&lt;NA&gt;</td>\n      <td>&lt;NA&gt;</td>\n      <td>None</td>\n    </tr>\n    <tr>\n      <th>1904</th>\n      <td>1000</td>\n      <td>NANOS</td>\n      <td>2023-01-25</td>\n      <td>405.0</td>\n      <td>C</td>\n      <td>1.05</td>\n      <td>1.008610</td>\n      <td>0</td>\n      <td>[CBOE]</td>\n      <td>2023-01-18 09:36:35.903000-05:00</td>\n      <td>...</td>\n      <td>OPENING</td>\n      <td></td>\n      <td></td>\n      <td>0.97</td>\n      <td>0.0</td>\n      <td>0</td>\n      <td>None</td>\n      <td>&lt;NA&gt;</td>\n      <td>&lt;NA&gt;</td>\n      <td>None</td>\n    </tr>\n    <tr>\n      <th>9697</th>\n      <td>500</td>\n      <td>NANOS</td>\n      <td>2023-02-01</td>\n      <td>394.0</td>\n      <td>C</td>\n      <td>5.51</td>\n      <td>5.467690</td>\n      <td>0</td>\n      <td>[CBOE]</td>\n      <td>2023-01-25 09:59:54.764000-05:00</td>\n      <td>...</td>\n      <td>OPENING</td>\n      <td></td>\n      <td></td>\n      <td>5.37</td>\n      <td>0.0</td>\n      <td>0</td>\n      <td>None</td>\n      <td>&lt;NA&gt;</td>\n      <td>&lt;NA&gt;</td>\n      <td>None</td>\n    </tr>\n    <tr>\n      <th>4411</th>\n      <td>500</td>\n      <td>NANOS</td>\n      <td>2023-02-27</td>\n      <td>402.0</td>\n      <td>C</td>\n      <td>3.98</td>\n      <td>3.923950</td>\n      <td>0</td>\n      <td>[CBOE]</td>\n      <td>2023-02-21 10:48:53.769000-05:00</td>\n      <td>...</td>\n      <td>OPENING</td>\n      <td></td>\n      <td></td>\n      <td>3.88</td>\n      <td>0.0</td>\n      <td>0</td>\n      <td>None</td>\n      <td>&lt;NA&gt;</td>\n      <td>&lt;NA&gt;</td>\n      <td>None</td>\n    </tr>\n    <tr>\n      <th>10649</th>\n      <td>1000</td>\n      <td>NANOS</td>\n      <td>2023-03-01</td>\n      <td>396.0</td>\n      <td>P</td>\n      <td>0.96</td>\n      <td>0.954282</td>\n      <td>0</td>\n      <td>[CBOE]</td>\n      <td>2023-02-27 14:03:10.492000-05:00</td>\n      <td>...</td>\n      <td>OPENING</td>\n      <td></td>\n      <td></td>\n      <td>0.87</td>\n      <td>0.0</td>\n      <td>0</td>\n      <td>None</td>\n      <td>&lt;NA&gt;</td>\n      <td>&lt;NA&gt;</td>\n      <td>None</td>\n    </tr>\n    <tr>\n      <th>6584</th>\n      <td>1000</td>\n      <td>NANOS</td>\n      <td>2023-03-06</td>\n      <td>398.0</td>\n      <td>P</td>\n      <td>0.93</td>\n      <td>0.913144</td>\n      <td>0</td>\n      <td>[CBOE]</td>\n      <td>2023-03-03 10:14:34.822000-05:00</td>\n      <td>...</td>\n      <td>OPENING</td>\n      <td></td>\n      <td></td>\n      <td>0.85</td>\n      <td>0.0</td>\n      <td>0</td>\n      <td>None</td>\n      <td>&lt;NA&gt;</td>\n      <td>&lt;NA&gt;</td>\n      <td>None</td>\n    </tr>\n    <tr>\n      <th>13271</th>\n      <td>1000</td>\n      <td>NANOS</td>\n      <td>2023-03-17</td>\n      <td>397.0</td>\n      <td>C</td>\n      <td>0.84</td>\n      <td>0.839933</td>\n      <td>0</td>\n      <td>[CBOE]</td>\n      <td>2023-03-17 09:31:00.248000-04:00</td>\n      <td>...</td>\n      <td>OPENING</td>\n      <td></td>\n      <td></td>\n      <td>0.75</td>\n      <td>0.0</td>\n      <td>0</td>\n      <td>None</td>\n      <td>&lt;NA&gt;</td>\n      <td>&lt;NA&gt;</td>\n      <td>None</td>\n    </tr>\n    <tr>\n      <th>13272</th>\n      <td>1000</td>\n      <td>NANOS</td>\n      <td>2023-03-17</td>\n      <td>396.0</td>\n      <td>C</td>\n      <td>1.25</td>\n      <td>1.283190</td>\n      <td>0</td>\n      <td>[CBOE]</td>\n      <td>2023-03-17 09:32:11.472000-04:00</td>\n      <td>...</td>\n      <td>OPENING</td>\n      <td></td>\n      <td></td>\n      <td>1.16</td>\n      <td>0.0</td>\n      <td>32</td>\n      <td>None</td>\n      <td>&lt;NA&gt;</td>\n      <td>&lt;NA&gt;</td>\n      <td>None</td>\n    </tr>\n    <tr>\n      <th>13275</th>\n      <td>1000</td>\n      <td>NANOS</td>\n      <td>2023-03-17</td>\n      <td>394.0</td>\n      <td>P</td>\n      <td>1.36</td>\n      <td>0.747300</td>\n      <td>0</td>\n      <td>[CBOE]</td>\n      <td>2023-03-17 09:42:32.938000-04:00</td>\n      <td>...</td>\n      <td>OPENING</td>\n      <td></td>\n      <td></td>\n      <td>1.27</td>\n      <td>0.0</td>\n      <td>27</td>\n      <td>None</td>\n      <td>&lt;NA&gt;</td>\n      <td>&lt;NA&gt;</td>\n      <td>None</td>\n    </tr>\n    <tr>\n      <th>13286</th>\n      <td>1000</td>\n      <td>NANOS</td>\n      <td>2023-03-17</td>\n      <td>396.0</td>\n      <td>C</td>\n      <td>0.89</td>\n      <td>0.490127</td>\n      <td>0</td>\n      <td>[CBOE]</td>\n      <td>2023-03-17 10:09:36.628000-04:00</td>\n      <td>...</td>\n      <td>OPENING</td>\n      <td></td>\n      <td></td>\n      <td>0.80</td>\n      <td>0.0</td>\n      <td>32</td>\n      <td>None</td>\n      <td>&lt;NA&gt;</td>\n      <td>&lt;NA&gt;</td>\n      <td>None</td>\n    </tr>\n  </tbody>\n</table>\n<p>14 rows × 28 columns</p>\n</div>"
     },
     "execution_count": 3,
     "metadata": {},
     "output_type": "execute_result"
    }
   ],
   "source": [
    "df = tree['trades']\n",
    "\n",
    "import pandas as pd\n",
    "import numpy as np\n",
    "\n",
    "df[(df['side']==0)]"
   ],
   "metadata": {
    "collapsed": false
   }
  }
 ],
 "metadata": {
  "kernelspec": {
   "display_name": "Python 3",
   "language": "python",
   "name": "python3"
  },
  "language_info": {
   "codemirror_mode": {
    "name": "ipython",
    "version": 2
   },
   "file_extension": ".py",
   "mimetype": "text/x-python",
   "name": "python",
   "nbconvert_exporter": "python",
   "pygments_lexer": "ipython2",
   "version": "2.7.6"
  }
 },
 "nbformat": 4,
 "nbformat_minor": 0
}
