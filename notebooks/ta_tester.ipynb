{
 "cells": [
  {
   "cell_type": "code",
   "execution_count": 1,
   "outputs": [],
   "source": [
    "lib_path = '/Users/ivan/Dropbox/Trading/TA_Parser/lib'\n",
    "import sys;sys.path.insert(0, lib_path) if lib_path not in sys.path else None\n",
    "from misc import get_dfs\n",
    "from intrinio import get_api as get_intrinio_api\n",
    "\n",
    "import pandas as pd\n",
    "import numpy as np\n",
    "from tqdm.cli import tqdm\n",
    "\n",
    "trades_dfs, oi_dfs, top_dfs = get_dfs()\n",
    "api = get_intrinio_api()\n",
    "all_dfs = {}"
   ],
   "metadata": {
    "collapsed": false
   }
  },
  {
   "cell_type": "code",
   "execution_count": null,
   "outputs": [
    {
     "name": "stderr",
     "output_type": "stream",
     "text": [
      "1/121 2022-09-28:  11%|█████████████████████████████████████▎                                                                                                                                                                                                                                                                                                          | 15/135 [00:05<00:54,  2.22it/s]"
     ]
    },
    {
     "name": "stdout",
     "output_type": "stream",
     "text": [
      "Exception with MAXR221021P00017500\n"
     ]
    },
    {
     "name": "stderr",
     "output_type": "stream",
     "text": [
      "1/121 2022-09-28:  19%|████████████████████████████████████████████████████████████████▋                                                                                                                                                                                                                                                                               | 26/135 [00:09<00:32,  3.37it/s]"
     ]
    }
   ],
   "source": [
    "all_days = trades_dfs.date.unique()\n",
    "for day_id, day in enumerate(all_days):\n",
    "    day = pd.to_datetime(day).date()\n",
    "    trades_df = trades_dfs[(trades_dfs['date'] == np.datetime64(day))]\n",
    "    oi_df = oi_dfs[(oi_dfs['Date'] == np.datetime64(day))]\n",
    "    top_df = top_dfs[(top_dfs['date'] == np.datetime64(day))]\n",
    "\n",
    "    def check_trade(r: pd.Series) -> bool:\n",
    "        if (pd.to_datetime(r['expiry_date']).date() - day).days < 15: return False\n",
    "        #if (abs(r['delta']) < 0.1): return False\n",
    "        if r['side'] == 0: return False\n",
    "\n",
    "        direction = (r['pc']=='C' and r['side'] > 0) or (r.pc=='P' and r['side'] < 0)\n",
    "\n",
    "        poi = oi_df[(oi_df['Symbol'] == r['root'])]\n",
    "        if poi.empty:\n",
    "            return False\n",
    "        for i, oi in poi.iterrows():\n",
    "            if oi['OI'] < r['size']: break\n",
    "\n",
    "            if (pd.to_datetime(oi['Expiry']).date() - day).days > 92: continue\n",
    "\n",
    "            wrongoi = oi['Mid'] * oi['OI']\n",
    "            if oi['P/C']=='C':\n",
    "                wrongoi += oi['Bid'] * oi['OI'] if direction else oi['Ask'] * oi['OI']\n",
    "            else:\n",
    "                wrongoi += oi['Ask'] * oi['OI'] if direction else oi['Bid'] * oi['OI']\n",
    "\n",
    "            #print(oi, wrongoi)\n",
    "            if wrongoi > r['size']: return False\n",
    "\n",
    "        ptop = top_df[(top_df['root'] == r['root'])]\n",
    "        found_t = False\n",
    "        for i, top in ptop.iterrows():\n",
    "            topdic = top.to_dict()\n",
    "            rdic = r.to_dict()\n",
    "            keys = topdic.keys() & r.keys()\n",
    "            if {k:topdic[k] for k in topdic if k in keys} == {k:rdic[k] for k in rdic if k in keys}:\n",
    "                found_t = True\n",
    "                continue\n",
    "            if top['date_time'] > r['date_time']: continue\n",
    "            #if (pd.to_datetime(top['expiry_date']).date() - day).days > 92: continue\n",
    "            if top['size'] < r['size']:\n",
    "                return found_t\n",
    "            #if top['size'] == r['size']: continue\n",
    "            if top['size'] < top['open_int']: continue\n",
    "            if top['side'] * r['side'] == 0: return False\n",
    "            if top['side'] * r['side'] < 0 and top['pc']==r['pc']: return False\n",
    "            if top['side'] * r['side'] > 0 and top['pc']!=r['pc']: return False\n",
    "\n",
    "        return found_t\n",
    "\n",
    "    trades_df_c = trades_df.copy()\n",
    "    #trades_df_c['check_trade'] = False\n",
    "    #trades_df_c['check_trade'] = trades_df_c.apply(check_trade, axis=1)\n",
    "    #trades_df_c = trades_df_c[(trades_df_c['check_trade'] == True)].reset_index(drop=False)#['root'].unique()\n",
    "\n",
    "    def check_results(r: pd.Series) -> pd.Series:\n",
    "        symbol = f\"{r['root']}{pd.Timestamp(r['expiry_date']).strftime('%y%m%d')}{r['pc']}{r['strike']*1000:08.0f}\"\n",
    "        try:\n",
    "            prices = api.option_prices(symbol)\n",
    "        except:\n",
    "            import traceback\n",
    "            try:\n",
    "                traceback.print_last()\n",
    "            except ValueError:\n",
    "                print('Error with Traceback')\n",
    "            return r\n",
    "        prices = prices[(prices['date'].dt.date > r['date_time'].date())]\n",
    "        if prices.empty:\n",
    "            return r\n",
    "\n",
    "        if r['side'] < 0:\n",
    "            r['best_open'] = prices.iloc[0]['bid_high']\n",
    "            b_id = prices.iloc[1:]['ask_low'].idxmin()\n",
    "            r['best_close'] = prices.loc[b_id]['ask_low']\n",
    "            r['max_profit'] = r['price'] - r['best_close']\n",
    "            w_id = prices['bid_high'].idxmax()\n",
    "            r['worst_close'] = prices.loc[w_id]['bid_high']\n",
    "            r['min_profit'] = r['price'] - r['worst_close']\n",
    "        elif r['side'] > 0:\n",
    "            r['best_open'] = prices.iloc[0]['ask_low']\n",
    "            b_id = prices.iloc[1:]['bid_high'].idxmax()\n",
    "            r['best_close'] = prices.loc[b_id]['bid_high']\n",
    "            r['max_profit'] = r['best_close'] - r['price']\n",
    "            w_id = prices['ask_low'].idxmin()\n",
    "            r['worst_close'] = prices.loc[w_id]['ask_low']\n",
    "            r['min_profit'] = r['worst_close'] - r['price']\n",
    "        else:\n",
    "            return r\n",
    "\n",
    "        r['best_close_date'] = prices.loc[b_id]['date']\n",
    "        r['max_profit_rate'] = r['max_profit']/r['price']\n",
    "        r['worst_close_date'] = prices.loc[w_id]['date']\n",
    "        r['worst_profit_rate'] = r['min_profit']/r['price']\n",
    "        return r\n",
    "\n",
    "    #tqdm.pandas(desc=f'{day_id+1}/{len(all_days)} {day.isoformat()}', leave=False)\n",
    "    #all_dfs.append(trades_df_c.progress_apply(check_results, axis=1))\n",
    "\n",
    "    for i,r in tqdm(trades_df_c.iterrows(), desc=f'{day_id+1}/{len(all_days)} {day.isoformat()}', leave=False, total=len(trades_df_c)):\n",
    "        if r['option'] in all_dfs:\n",
    "            continue\n",
    "        try:\n",
    "            prices = api.option_prices(r['option'])\n",
    "        except:\n",
    "            print(f'Exception with {r[\"option\"]}')\n",
    "            continue\n",
    "        prices.insert(0, 'option', r['option'])\n",
    "        all_dfs[r['option']] = prices\n",
    "\n",
    "    all_dfs.append(trades_df_c)\n",
    "\n",
    "#dfs = pd.concat(all_dfs, axis=0)"
   ],
   "metadata": {
    "collapsed": false
   }
  },
  {
   "cell_type": "code",
   "execution_count": null,
   "outputs": [],
   "source": [
    "df = pd.concat(all_dfs.values(), axis=0, ignore_index=True)"
   ],
   "metadata": {
    "collapsed": false
   }
  },
  {
   "cell_type": "code",
   "execution_count": null,
   "outputs": [],
   "source": [
    "df = df.sort(by=['date', 'option'])"
   ],
   "metadata": {
    "collapsed": false
   }
  },
  {
   "cell_type": "code",
   "execution_count": null,
   "outputs": [],
   "source": [
    "pd.read_parquet('../data/history.parquet')"
   ],
   "metadata": {
    "collapsed": false
   }
  },
  {
   "cell_type": "code",
   "execution_count": null,
   "outputs": [],
   "source": [
    "# TODO Expired Only\n",
    "#dfs[(dfs['side']>0) & (dfs['best_open']>=dfs['price']) & (dfs['expiry_date']<=np.datetime64('2023-03-18')) & (dfs['max_profit_rate']>=0.2)]"
   ],
   "metadata": {
    "collapsed": false
   }
  },
  {
   "cell_type": "code",
   "execution_count": null,
   "outputs": [],
   "source": [
    "#119/181, 62/181"
   ],
   "metadata": {
    "collapsed": false
   }
  }
 ],
 "metadata": {
  "kernelspec": {
   "display_name": "Python 3",
   "language": "python",
   "name": "python3"
  },
  "language_info": {
   "codemirror_mode": {
    "name": "ipython",
    "version": 2
   },
   "file_extension": ".py",
   "mimetype": "text/x-python",
   "name": "python",
   "nbconvert_exporter": "python",
   "pygments_lexer": "ipython2",
   "version": "2.7.6"
  }
 },
 "nbformat": 4,
 "nbformat_minor": 0
}
