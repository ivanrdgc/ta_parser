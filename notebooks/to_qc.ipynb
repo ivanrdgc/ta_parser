{
 "cells": [
  {
   "cell_type": "code",
   "execution_count": 75,
   "outputs": [],
   "source": [
    "import pathlib, base64, json\n",
    "from datetime import datetime\n",
    "import pandas as pd\n",
    "import numpy as np\n",
    "from io import BytesIO\n",
    "\n",
    "tree = {}\n",
    "for f in pathlib.Path('../data').glob('*.parquet'):\n",
    "    parts = f.name.split('.')\n",
    "    if len(parts) != 3: continue\n",
    "    #with f.open('rb') as fp:\n",
    "    dt = datetime.strptime(parts[0], '%Y%m%d').date()\n",
    "    tree.setdefault(dt, {})\n",
    "    df = pd.read_parquet(f)#base64.encodebytes(fp.read()).decode()\n",
    "    if parts[1] == 'oi':\n",
    "        df.insert(0, 'Date', np.datetime64(dt))\n",
    "    tree[dt][parts[1]] = df\n",
    "\n",
    "p_tree = {}\n",
    "p_tree['trades'] = pd.concat((d['trades'] for d in tree.values()), ignore_index=True, axis=0).sort_values(by='date_time')\n",
    "p_tree['oi'] = pd.concat((d['oi'] for d in tree.values()), ignore_index=True, axis=0).sort_values(by='Date')\n",
    "p_tree['top'] = pd.concat((d['top'] for d in tree.values()), ignore_index=True, axis=0).sort_values(by='date_time')\n",
    "\n",
    "for k,v in list(p_tree.items()):\n",
    "    buffer = BytesIO()\n",
    "    v.to_parquet(buffer)\n",
    "    buffer.seek(0)\n",
    "    p_tree[k] = base64.encodebytes(buffer.read()).decode()\n",
    "\n",
    "with open('tree.json', 'wt') as f:\n",
    "    json.dump(p_tree, f)"
   ],
   "metadata": {
    "collapsed": false
   }
  }
 ],
 "metadata": {
  "kernelspec": {
   "display_name": "Python 3",
   "language": "python",
   "name": "python3"
  },
  "language_info": {
   "codemirror_mode": {
    "name": "ipython",
    "version": 2
   },
   "file_extension": ".py",
   "mimetype": "text/x-python",
   "name": "python",
   "nbconvert_exporter": "python",
   "pygments_lexer": "ipython2",
   "version": "2.7.6"
  }
 },
 "nbformat": 4,
 "nbformat_minor": 0
}
