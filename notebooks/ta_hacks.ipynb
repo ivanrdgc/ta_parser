{
 "cells": [
  {
   "cell_type": "code",
   "execution_count": 6,
   "metadata": {
    "collapsed": true
   },
   "outputs": [],
   "source": [
    "import pandas as pd\n",
    "import datetime\n",
    "pd.set_option('display.max_columns', None)\n",
    "\n",
    "import pandas_market_calendars as mcal\n",
    "# Create a calendar\n",
    "cboe = mcal.get_calendar('CBOE_Equity_Options')\n",
    "\n",
    "date_from = datetime.date(2022, 9, 28)\n",
    "date_to = datetime.date(2023, 3, 19)#date_from#+datetime.timedelta(days=5)\n",
    "\n",
    "for day in cboe.schedule(date_from, date_to).index:\n",
    "    day = day.date()\n",
    "    trades_df = pd.read_parquet(f'../data/{day.strftime(\"%Y%m%d\")}.trades.parquet')\n",
    "    top_df = pd.read_parquet(f'../data/{day.strftime(\"%Y%m%d\")}.top.parquet')\n",
    "\n",
    "    trades_df['root'] = trades_df['root'].replace(r'\\/', '', regex=True)\n",
    "    top_df['root'] = top_df['root'].replace(r'\\/', '', regex=True)\n",
    "\n",
    "    trades_df.to_parquet(f'../data/{day.strftime(\"%Y%m%d\")}.trades.parquet')\n",
    "    top_df.to_parquet(f'../data/{day.strftime(\"%Y%m%d\")}.top.parquet')"
   ]
  }
 ],
 "metadata": {
  "kernelspec": {
   "display_name": "Python 3",
   "language": "python",
   "name": "python3"
  },
  "language_info": {
   "codemirror_mode": {
    "name": "ipython",
    "version": 2
   },
   "file_extension": ".py",
   "mimetype": "text/x-python",
   "name": "python",
   "nbconvert_exporter": "python",
   "pygments_lexer": "ipython2",
   "version": "2.7.6"
  }
 },
 "nbformat": 4,
 "nbformat_minor": 0
}
